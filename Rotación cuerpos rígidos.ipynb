{
 "cells": [
  {
   "cell_type": "markdown",
   "id": "10711366",
   "metadata": {},
   "source": [
    "# Velocidad y aceleraciones angulares"
   ]
  },
  {
   "cell_type": "markdown",
   "id": "1ea9199b",
   "metadata": {},
   "source": [
    "De la misma forma que la velocidad lineal mide el cambio en la posición respecto al tiempo, la velocidad angular hace una medición del cambio de un ángulo respecto al tiempo. Entonces de manera análoga podemos comparar las siguientes ecuaciones.\n",
    "\n",
    "$$\n",
    "\\dfrac{dx}{dt}=\\vec{v}\n",
    "$$\n",
    "\n",
    "$$\n",
    "\\dfrac{d\\theta}{dt}=\\omega\n",
    "$$\n",
    "\n",
    "Mismo caso sucede con la aceleración por lo que entonces planteamos las ecuaciones.\n",
    "\n",
    "$$\n",
    "\\dfrac{d\\vec{v}}{dt}=\\vec{a}\n",
    "$$\n",
    "\n",
    "$$\n",
    "\\dfrac{d\\omega}{dt}=\\alpha=\\dfrac{d^2\\theta}{dt^2}\n",
    "$$\n",
    "\n",
    "Existe una relación entre las ecuaciones lineales y angulares. Al multiplicar el radio por cualquiera de las ecuaciones mostradas anteriormente (velocidad y aceleración angular) obtendremos la ecuación lineal análoga. Igaulmente es importante recalcar que las ecuaciones estudiadas para velocidades y aceleraciones lineales se pueden transformar en angulares, por ejemplo la ecuación para un movimiento con aceleración constante que nos daria la posición sería\n",
    "\n",
    "$$\n",
    "\\theta=\\theta_0+\\omega_0t+\\dfrac{\\alpha_zt^2}{2}\n",
    "$$\n",
    "\n",
    "Las ecuaciones angulares pueden tener dirección utilizando la regla de la mano derecha como se puede observar en la siguiente animación. \n",
    "\n",
    "![SegmentLocal](ManoDerecha.png)"
   ]
  },
  {
   "cell_type": "code",
   "execution_count": 1,
   "id": "ff92941c",
   "metadata": {},
   "outputs": [
    {
     "data": {
      "text/html": [
       "<script>\n",
       "code_show=false; \n",
       "function code_toggle() {\n",
       "    if (code_show){\n",
       "        $('div.cell.code_cell.rendered.selected div.input').hide();\n",
       "    } else {\n",
       "        $('div.cell.code_cell.rendered.selected div.input').show();\n",
       "    }\n",
       "    code_show = !code_show\n",
       "} \n",
       "\n",
       "$( document ).ready(code_toggle);\n",
       "</script>\n",
       "\n",
       "Para mostrar/ocultar código presione <a href=\"javascript:code_toggle()\">aquí</a>."
      ],
      "text/plain": [
       "<IPython.core.display.HTML object>"
      ]
     },
     "metadata": {},
     "output_type": "display_data"
    },
    {
     "data": {
      "application/vnd.jupyter.widget-view+json": {
       "model_id": "9e3e5288e8f144cd83818825e4d62ed4",
       "version_major": 2,
       "version_minor": 0
      },
      "text/plain": [
       "HBox(children=(Label(value='Radio $(m)$:'), FloatSlider(value=1.0, max=5.0, min=1.0)))"
      ]
     },
     "metadata": {},
     "output_type": "display_data"
    },
    {
     "data": {
      "application/vnd.jupyter.widget-view+json": {
       "model_id": "dba57cf3186a4ff3afa9319c379b0dfb",
       "version_major": 2,
       "version_minor": 0
      },
      "text/plain": [
       "HBox(children=(Label(value='Velocidad angular Inicial $(rad/s)$:'), FloatSlider(value=1.0, max=10.0, min=1.0, …"
      ]
     },
     "metadata": {},
     "output_type": "display_data"
    },
    {
     "data": {
      "application/vnd.jupyter.widget-view+json": {
       "model_id": "594fb3e8593d4944b795cb372698746f",
       "version_major": 2,
       "version_minor": 0
      },
      "text/plain": [
       "HBox(children=(Label(value='Aceleración angular Inicial $(rad/s^2)$:'), FloatSlider(value=0.0, max=10.0, step=…"
      ]
     },
     "metadata": {},
     "output_type": "display_data"
    },
    {
     "data": {
      "application/vnd.jupyter.widget-view+json": {
       "model_id": "a076b42f3cd74be98a39388c87dc548c",
       "version_major": 2,
       "version_minor": 0
      },
      "text/plain": [
       "HBox(children=(Label(value='Tiempo $(s)$:'), FloatSlider(value=0.0, max=65.0)))"
      ]
     },
     "metadata": {},
     "output_type": "display_data"
    },
    {
     "data": {
      "application/vnd.jupyter.widget-view+json": {
       "model_id": "1e91c4506b1e44a991fabf039ba5abf9",
       "version_major": 2,
       "version_minor": 0
      },
      "text/plain": [
       "Play(value=0, max=30, step=0)"
      ]
     },
     "metadata": {},
     "output_type": "display_data"
    },
    {
     "data": {
      "application/vnd.jupyter.widget-view+json": {
       "model_id": "9677157133c444a5926924346d32160f",
       "version_major": 2,
       "version_minor": 0
      },
      "text/plain": [
       "Output()"
      ]
     },
     "metadata": {},
     "output_type": "display_data"
    }
   ],
   "source": [
    "from Rotacion import graficas\n",
    "\n",
    "graficas()"
   ]
  },
  {
   "cell_type": "code",
   "execution_count": null,
   "id": "84e28051",
   "metadata": {},
   "outputs": [],
   "source": []
  }
 ],
 "metadata": {
  "kernelspec": {
   "display_name": "Python 3",
   "language": "python",
   "name": "python3"
  },
  "language_info": {
   "codemirror_mode": {
    "name": "ipython",
    "version": 3
   },
   "file_extension": ".py",
   "mimetype": "text/x-python",
   "name": "python",
   "nbconvert_exporter": "python",
   "pygments_lexer": "ipython3",
   "version": "3.8.8"
  }
 },
 "nbformat": 4,
 "nbformat_minor": 5
}
