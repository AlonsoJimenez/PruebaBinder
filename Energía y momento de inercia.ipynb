{
 "cells": [
  {
   "cell_type": "markdown",
   "id": "1417d0d8",
   "metadata": {},
   "source": [
    "# Energía y momento de inercia"
   ]
  },
  {
   "cell_type": "code",
   "execution_count": 1,
   "id": "52a407e5",
   "metadata": {},
   "outputs": [],
   "source": [
    "from EnergiaInercia import graficoEnergia, graficoEjes"
   ]
  },
  {
   "cell_type": "markdown",
   "id": "23635b7b",
   "metadata": {},
   "source": [
    "En el caso de la energía cinética de un cuerpo en rotación tomamos una partícula en rotación y le calculamos su energía cinética de la siguiente forma.\n",
    "\n",
    "$$\n",
    "K=\\dfrac{mr^2\\omega^2}{2}\n",
    "$$\n",
    "\n",
    "En el caso de un objeto compuesto como es el caso más general en la física vamos a tener:\n",
    "\n",
    "$$\n",
    "\\dfrac{1}{2}\\sum{(m_ir_i^2)}\\omega^2 \n",
    "$$\n",
    "\n",
    "Este valor dentro del paréntesis le llamaremos momento de inercia por lo que al igual que definimos la energía cinética de un cuerpo por su masa y velocidad. En rotación será momento de inercia y velocidad angular.\n",
    "Notamos que el momento de inercia nos da una resistencia a la rotación de la misma manera que la masa le da a la velocidad lineal.\n",
    "\n",
    "Entonces:\n",
    "\n",
    "$$\n",
    "K=\\dfrac{1}{2}I\\omega^2\n",
    "$$\n",
    "\n",
    "Para dar una introducción en el siguiente ejemplo se dara el ejemplo más sencillo de un cuerpo compuesto, un aro. Donde las partículas unidas giran a través de un radio definido, poseen una masa unidorme y velocidad constante."
   ]
  },
  {
   "cell_type": "code",
   "execution_count": 2,
   "id": "5b960886",
   "metadata": {},
   "outputs": [
    {
     "data": {
      "application/vnd.jupyter.widget-view+json": {
       "model_id": "a23374797e464b44b73586e3d1e03e82",
       "version_major": 2,
       "version_minor": 0
      },
      "text/plain": [
       "HBox(children=(Label(value='Masa del disco $(kg)$:'), FloatSlider(value=2.0, max=3.0, min=0.5)))"
      ]
     },
     "metadata": {},
     "output_type": "display_data"
    },
    {
     "data": {
      "application/vnd.jupyter.widget-view+json": {
       "model_id": "45fc0a08c7234fea83e7a58df666b2c6",
       "version_major": 2,
       "version_minor": 0
      },
      "text/plain": [
       "HBox(children=(Label(value='Radio de giro $(m)$:'), FloatSlider(value=0.1, max=2.0, min=0.1)))"
      ]
     },
     "metadata": {},
     "output_type": "display_data"
    },
    {
     "data": {
      "application/vnd.jupyter.widget-view+json": {
       "model_id": "e28619f9cc5e4706bb82acd7cb1deb76",
       "version_major": 2,
       "version_minor": 0
      },
      "text/plain": [
       "HBox(children=(Label(value='Velocidad angular $(rad/s)$:'), FloatSlider(value=2.0, max=3.0, min=0.1)))"
      ]
     },
     "metadata": {},
     "output_type": "display_data"
    },
    {
     "data": {
      "application/vnd.jupyter.widget-view+json": {
       "model_id": "b68183ec84ed4fb99793863f5f1c9c3e",
       "version_major": 2,
       "version_minor": 0
      },
      "text/plain": [
       "HBox(children=(Label(value='Tiempo $(s)$:'), FloatSlider(value=0.0, max=60.0)))"
      ]
     },
     "metadata": {},
     "output_type": "display_data"
    },
    {
     "data": {
      "application/vnd.jupyter.widget-view+json": {
       "model_id": "5fe1d18c4a2e43cd8bd7c8ee457af935",
       "version_major": 2,
       "version_minor": 0
      },
      "text/plain": [
       "Play(value=0, max=60, step=0)"
      ]
     },
     "metadata": {},
     "output_type": "display_data"
    },
    {
     "data": {
      "application/vnd.jupyter.widget-view+json": {
       "model_id": "10902233f50b4b49a6f99f5d3e161f52",
       "version_major": 2,
       "version_minor": 0
      },
      "text/plain": [
       "Output()"
      ]
     },
     "metadata": {},
     "output_type": "display_data"
    }
   ],
   "source": [
    "graficoEnergia()"
   ]
  },
  {
   "cell_type": "markdown",
   "id": "a7dd17c7",
   "metadata": {},
   "source": [
    "Es importante notar que para distintas formas existen distintos momentos de inercia para distintas formas geometricas. Estas se pueden averiguar a traves de la ecuacion diferencial:\n",
    "\n",
    "$$\n",
    "I=\\rho\\int r^2 \\,dV\n",
    "$$\n",
    "\n",
    "Sin embargo para formas con distribución de masa uniforme y homogeneo existen formulas ya existentes dependientes de las variables de la forma y su masa como se muestra en la siguiente imagen obtenida del libro Sears. Todos estos centros de masa son del centro geométrico.\n",
    "\n",
    "![SegmentLocal](Inercia.jpg)\n",
    "\n",
    "Tambien es importante mencionar que en ciertos casos es posible evitar la ecuación diferencial para encontrar el momento de inercia. Esto cuando sabemos el momento de inercia en el centro y deseamos encontar el mismo en un eje paralelo al mismo. Dicha ecuación para encontrar el momento de inercia deseado es llamado el teorema de los ejes paralelo:\n",
    "\n",
    "$$\n",
    "I_P=I_{cm}+MD^2\n",
    "$$"
   ]
  },
  {
   "cell_type": "markdown",
   "id": "f078b510",
   "metadata": {},
   "source": [
    "En el siguiente ejemplo interactivo se ve un disco solido que gira respecto a un eje a través del centro cambia su energía y momento de inercia cuando se gira a velocidad constante. Esto respecto a distintos puntos, en esta se utiliza el teorema de ejes paralelos junto a la formula del Sears mostrada arriba."
   ]
  },
  {
   "cell_type": "code",
   "execution_count": 3,
   "id": "6a11c786",
   "metadata": {},
   "outputs": [
    {
     "data": {
      "application/vnd.jupyter.widget-view+json": {
       "model_id": "0058cc54c66547fb8ce9123e5af1d07d",
       "version_major": 2,
       "version_minor": 0
      },
      "text/plain": [
       "HBox(children=(Label(value='Masa del disco $(kg)$:'), FloatSlider(value=2.0, max=3.0, min=0.5)))"
      ]
     },
     "metadata": {},
     "output_type": "display_data"
    },
    {
     "data": {
      "application/vnd.jupyter.widget-view+json": {
       "model_id": "fd1ca22bec30400cb105076a0d312eb0",
       "version_major": 2,
       "version_minor": 0
      },
      "text/plain": [
       "HBox(children=(Label(value='Distancia eje $(m)$:'), FloatSlider(value=0.0, max=1.0, min=-1.0)))"
      ]
     },
     "metadata": {},
     "output_type": "display_data"
    },
    {
     "data": {
      "application/vnd.jupyter.widget-view+json": {
       "model_id": "fdbd8da7259d4317bb03c503156bbf1c",
       "version_major": 2,
       "version_minor": 0
      },
      "text/plain": [
       "HBox(children=(Label(value='Velocidad angular $(rad/s)$:'), FloatSlider(value=2.0, max=3.0, min=0.1)))"
      ]
     },
     "metadata": {},
     "output_type": "display_data"
    },
    {
     "data": {
      "application/vnd.jupyter.widget-view+json": {
       "model_id": "ab179b68c7b146ceb1af643b3b53146d",
       "version_major": 2,
       "version_minor": 0
      },
      "text/plain": [
       "HBox(children=(Label(value='Tiempo $(s)$:'), FloatSlider(value=0.0, max=60.0)))"
      ]
     },
     "metadata": {},
     "output_type": "display_data"
    },
    {
     "data": {
      "application/vnd.jupyter.widget-view+json": {
       "model_id": "dfb70b4f222549b5b926fa1ed108f549",
       "version_major": 2,
       "version_minor": 0
      },
      "text/plain": [
       "Play(value=0, max=60, step=0)"
      ]
     },
     "metadata": {},
     "output_type": "display_data"
    },
    {
     "data": {
      "application/vnd.jupyter.widget-view+json": {
       "model_id": "f5b5e8898d8d414dba13b3a68101160c",
       "version_major": 2,
       "version_minor": 0
      },
      "text/plain": [
       "Output()"
      ]
     },
     "metadata": {},
     "output_type": "display_data"
    }
   ],
   "source": [
    "graficoEjes()"
   ]
  },
  {
   "cell_type": "code",
   "execution_count": null,
   "id": "54b0061a",
   "metadata": {},
   "outputs": [],
   "source": []
  }
 ],
 "metadata": {
  "kernelspec": {
   "display_name": "Python 3",
   "language": "python",
   "name": "python3"
  },
  "language_info": {
   "codemirror_mode": {
    "name": "ipython",
    "version": 3
   },
   "file_extension": ".py",
   "mimetype": "text/x-python",
   "name": "python",
   "nbconvert_exporter": "python",
   "pygments_lexer": "ipython3",
   "version": "3.8.8"
  }
 },
 "nbformat": 4,
 "nbformat_minor": 5
}
