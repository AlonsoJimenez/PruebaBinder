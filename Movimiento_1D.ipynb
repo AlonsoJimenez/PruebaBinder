{
 "cells": [
  {
   "cell_type": "code",
   "execution_count": 3,
   "metadata": {},
   "outputs": [
    {
     "name": "stderr",
     "output_type": "stream",
     "text": [
      "Enabling notebook extension jupyter-js-widgets/extension...\n",
      "      - Validating: ok\n",
      "Enabling: voila\n",
      "- Writing config: C:\\Users\\alons\\anaconda3\\etc\\jupyter\n",
      "    - Validating...\n",
      "      voila 0.2.16 ok\n"
     ]
    }
   ],
   "source": [
    "from IPython.display import HTML\n",
    "from IPython.display import display\n",
    "\n",
    "# Tomado de https://stackoverflow.com/questions/31517194/how-to-hide-one-specific-cell-input-or-output-in-ipython-notebook\n",
    "tag = HTML('''<script>\n",
    "code_show=false; \n",
    "function code_toggle() {\n",
    "    if (code_show){\n",
    "        $('div.cell.code_cell.rendered.selected div.input').hide();\n",
    "    } else {\n",
    "        $('div.cell.code_cell.rendered.selected div.input').show();\n",
    "    }\n",
    "    code_show = !code_show\n",
    "} \n",
    "\n",
    "$( document ).ready(code_toggle);\n",
    "</script>\n",
    "\n",
    "Para mostrar/ocultar código presione <a href=\"javascript:code_toggle()\">aquí</a>.''')\n",
    "\n",
    "\n",
    "###########################################################################################################################\n",
    "\n",
    "\n",
    "from ipywidgets import interactive\n",
    "import ipywidgets as widgets\n",
    "from IPython.display import display \n",
    "import numpy as np\n",
    "import matplotlib.pyplot as plt\n",
    "\n",
    "\n",
    "def CalculoVelocidad (arregloTiempo, velInicial, aceleración):\n",
    "    velocidad = velInicial + aceleración * arregloTiempo\n",
    "    return velocidad\n",
    "\n",
    "def CalculoPosición (posInicial, arregloTiempo, velInicial, aceleración):\n",
    "    posición = posInicial + velInicial * arregloTiempo + 1/2 * aceleración * arregloTiempo ** 2\n",
    "    return posición\n",
    "\n",
    "\n",
    "def Velocidad():\n",
    "   \n",
    "    display(tag)    \n",
    "   \n",
    "\n",
    "    def GraficoInteractivoVelocidad (velInicial, aceleración,tiempo):\n",
    "\n",
    "      arregloTiempo = np.linspace (0, tiempo, 20)\n",
    "\n",
    "      velocidadActual = CalculoVelocidad (arregloTiempo, velInicial, aceleración)\n",
    "\n",
    "      fig, ax = plt.subplots (dpi=120)\n",
    "\n",
    "      ax.set_xlabel('Tiempo $(s)$')\n",
    "      ax.set_ylabel('Velocidad $(m/s)$')\n",
    "      plt.xlim (0, 35)\n",
    "      plt.ylim (-50, 50)\n",
    "      ax.plot (arregloTiempo, velocidadActual)\n",
    "      ax.set_title('Velocidad de una partícula en una dimensión')\n",
    "\n",
    "      plt.grid ()\n",
    "\n",
    "      plt.show()\n",
    "\n",
    "      return\n",
    "\n",
    "    velEtiqueta = widgets.Label (value=\"Velocidad Inicial $(m/s)$:\")\n",
    "    velSlider = widgets.IntSlider(min=-15.0, max=15.0, step=1.0, value=0.0)\n",
    "    cajaVelocidad = widgets.HBox([velEtiqueta, velSlider])\n",
    "\n",
    "    aceEtiqueta = widgets.Label (value=\"Aceleración $(m/s^2)$:\")\n",
    "    aceSlider = widgets.FloatSlider(min=-1, max=1, step=0.1, value=0)\n",
    "    cajaAceleracion = widgets.HBox([aceEtiqueta, aceSlider])\n",
    "\n",
    "    play = widgets.Play(value=0, min=0, max=30, step=2, disabled=False)\n",
    "    tieEtiqueta = widgets.Label (value=\"Tiempo $(s)$:\")\n",
    "    tieSlider = widgets.IntSlider(min=0, max=30,)\n",
    "    widgets.jslink((play, 'value'), (tieSlider, 'value'))\n",
    "    cajaTiempo = widgets.HBox([tieEtiqueta, tieSlider])\n",
    "\n",
    "    salida = widgets.interactive_output(GraficoInteractivoVelocidad, {'velInicial':velSlider, \n",
    "                                                                  'aceleración':aceSlider,\n",
    "                                                                  'tiempo':tieSlider})\n",
    "\n",
    "    display(cajaVelocidad, cajaAceleracion, cajaTiempo, play, salida)\n",
    "    \n",
    "\n",
    "\n",
    "###########################################################################################################################\n",
    "\n",
    "\n",
    "def Posición():\n",
    "    \n",
    "    display(tag)\n",
    "\n",
    "    def GraficoInteractivoPosición(posInicial, velInicial, aceleración,tiempo):\n",
    "\n",
    "      arregloTiempo = np.linspace (0, tiempo, 20)\n",
    "\n",
    "      posiciónActual = CalculoPosición (posInicial, arregloTiempo, velInicial, aceleración)\n",
    "\n",
    "      fig, ax = plt.subplots (dpi=120)\n",
    "\n",
    "      ax.set_xlabel('Tiempo $(s)$')\n",
    "      ax.set_ylabel('Posición $(m)$')\n",
    "      plt.xlim (0, 35)\n",
    "      plt.ylim (-50, 50)\n",
    "      ax.plot (arregloTiempo, posiciónActual)\n",
    "      ax.set_title('Posición de una partícula en una dimensión')\n",
    "\n",
    "      plt.grid ()\n",
    "\n",
    "      plt.show()\n",
    "\n",
    "      return\n",
    "\n",
    "\n",
    "    posEtiqueta = widgets.Label (value=\"Posición Inicial $(m)$:\")\n",
    "    posSlider = widgets.IntSlider(min=-10.0, max=10.0, step=1.0, value=0.0)\n",
    "    cajaPosición = widgets.HBox([posEtiqueta, posSlider])\n",
    "\n",
    "    velEtiqueta = widgets.Label (value=\"Velocidad Inicial $(m/s)$:\")\n",
    "    velSlider = widgets.FloatSlider(min=-0.1, max=0.1, step=0.01, value=0.0)\n",
    "    cajaVelocidad = widgets.HBox([velEtiqueta, velSlider])\n",
    "\n",
    "    aceEtiqueta = widgets.Label (value=\"Aceleración $(m/s^2)$:\")\n",
    "    aceSlider = widgets.FloatSlider(min=-0.1, max=0.1, step=0.01, value=0)\n",
    "    cajaAceleracion = widgets.HBox([aceEtiqueta, aceSlider])\n",
    "\n",
    "    play = widgets.Play(value=0, min=0, max=30, step=2, disabled=False)\n",
    "    tieEtiqueta = widgets.Label (value=\"Tiempo $(s)$:\")\n",
    "    tieSlider = widgets.IntSlider(min=0, max=30,)\n",
    "    widgets.jslink((play, 'value'), (tieSlider, 'value'))\n",
    "    cajaTiempo = widgets.HBox([tieEtiqueta, tieSlider])\n",
    "\n",
    "    salida = widgets.interactive_output(GraficoInteractivoPosición, {'posInicial':posSlider,\n",
    "                                                                  'velInicial':velSlider,\n",
    "                                                                  'aceleración':aceSlider,\n",
    "                                                                  'tiempo':tieSlider})\n",
    "\n",
    "    display(cajaPosición, cajaVelocidad, cajaAceleracion, cajaTiempo, play, salida)\n",
    "\n",
    "\n",
    "###########################################################################################################################\n",
    "\n",
    "\n",
    "def Aceleración ():\n",
    "    \n",
    "    display(tag)\n",
    "    \n",
    "    def GraficoInteractivoPosición(posInicial, velInicial, aceleración,tiempo):\n",
    "      arregloTiempo = np.linspace (0, tiempo, 20)\n",
    "      aceleraciónActual = np.ones (20) * aceleración    \n",
    "\n",
    "      fig, ax = plt.subplots (dpi=120)\n",
    "\n",
    "      ax.set_xlabel('Tiempo $(s)$')\n",
    "      ax.set_ylabel('Aceleración $(m/s^2)$')\n",
    "      plt.xlim (0, 35)\n",
    "      plt.ylim (-10, 10)\n",
    "      ax.plot (arregloTiempo, aceleraciónActual)\n",
    "      ax.set_title('Aceleración de una partícula en una dimensión')\n",
    "\n",
    "      plt.grid ()\n",
    "\n",
    "      plt.show()\n",
    "\n",
    "      return\n",
    "\n",
    "\n",
    "    posEtiqueta = widgets.Label (value=\"Posición Inicial $(m)$:\")\n",
    "    posSlider = widgets.IntSlider(min=-10.0, max=10.0, step=1.0, value=0.0)\n",
    "    cajaPosición = widgets.HBox([posEtiqueta, posSlider])\n",
    "\n",
    "    velEtiqueta = widgets.Label (value=\"Velocidad Inicial $(m/s)$:\")\n",
    "    velSlider = widgets.IntSlider(min=-50, max=50, step=1, value=0.0)\n",
    "    cajaVelocidad = widgets.HBox([velEtiqueta, velSlider])\n",
    "\n",
    "    aceEtiqueta = widgets.Label (value=\"Aceleración $(m/s^2)$:\")\n",
    "    aceSlider = widgets.IntSlider(min=-5, max=5, step=1, value=0)\n",
    "    cajaAceleracion = widgets.HBox([aceEtiqueta, aceSlider])\n",
    "\n",
    "    play = widgets.Play(value=0, min=0, max=30, step=2, disabled=False)\n",
    "    tieEtiqueta = widgets.Label (value=\"Tiempo $(s)$:\")\n",
    "    tieSlider = widgets.IntSlider(min=0, max=30,)\n",
    "    widgets.jslink((play, 'value'), (tieSlider, 'value'))\n",
    "    cajaTiempo = widgets.HBox([tieEtiqueta, tieSlider])\n",
    "\n",
    "    salida = widgets.interactive_output(GraficoInteractivoPosición, {'posInicial':posSlider,\n",
    "                                                                  'velInicial':velSlider,\n",
    "                                                                  'aceleración':aceSlider,\n",
    "                                                                  'tiempo':tieSlider})\n",
    "\n",
    "    display(cajaPosición, cajaVelocidad, cajaAceleracion, cajaTiempo, play, salida)\n",
    "    \n",
    "    \n",
    "###########################################################################################################################\n",
    "\n",
    "\n",
    "def GraficasVarias ():\n",
    "    \n",
    "    display (tag)\n",
    "    \n",
    "    def GraficoInteractivoGeneral(posInicial, velInicial, aceleración,tiempo):\n",
    "\n",
    "      arregloTiempo = np.linspace (0, tiempo, 20)\n",
    "\n",
    "      posiciónActual = CalculoPosición (posInicial, arregloTiempo, velInicial, aceleración)\n",
    "      velocidadActual = CalculoVelocidad (arregloTiempo, velInicial, aceleración)\n",
    "      aceleraciónActual = np.ones (20) * aceleración\n",
    "\n",
    "      fig, (ax1, ax2, ax3) = plt.subplots (1, 3, figsize = (20,7), dpi= 120, sharex = True)\n",
    "\n",
    "      ax1.set_xlabel('Tiempo $(s)$')\n",
    "      ax1.set_ylabel('Posición $(m)$')\n",
    "      ax1.plot (arregloTiempo, posiciónActual)\n",
    "      ax1.set_xlim([0,35]) \n",
    "      ax1.set_ylim([-50,50])      \n",
    "      ax1.grid ()\n",
    "        \n",
    "      ax2.set_xlabel('Tiempo $(s)$')\n",
    "      ax2.set_ylabel('Velocidad $(m/s)$')\n",
    "      ax2.plot (arregloTiempo, velocidadActual) \n",
    "      ax2.set_xlim([0,35])\n",
    "      ax2.set_ylim([-5,5]) \n",
    "      ax2.grid ()\n",
    "    \n",
    "      ax3.set_xlabel('Tiempo $(s)$')\n",
    "      ax3.set_ylabel('Aceleración $(m/s^2)$')\n",
    "      ax1.set_xlim([0,35])\n",
    "      ax3.set_ylim([-0.2, 0.2]) \n",
    "      ax3.plot (arregloTiempo, aceleraciónActual)        \n",
    "      ax3.grid ()\n",
    "    \n",
    "      plt.show()\n",
    "\n",
    "      return\n",
    "\n",
    "\n",
    "    posEtiqueta = widgets.Label (value=\"Posición Inicial $(m)$:\")\n",
    "    posSlider = widgets.IntSlider(min=-10.0, max=10.0, step=1.0, value=0.0)\n",
    "    cajaPosición = widgets.HBox([posEtiqueta, posSlider])\n",
    "\n",
    "    velEtiqueta = widgets.Label (value=\"Velocidad Inicial $(m/s)$:\")\n",
    "    velSlider = widgets.FloatSlider(min=-0.1, max=0.1, step=0.01, value=0.0)\n",
    "    cajaVelocidad = widgets.HBox([velEtiqueta, velSlider])\n",
    "\n",
    "    aceEtiqueta = widgets.Label (value=\"Aceleración $(m/s^2)$:\")\n",
    "    aceSlider = widgets.FloatSlider(min=-0.1, max=0.1, step=0.01, value=0)\n",
    "    cajaAceleracion = widgets.HBox([aceEtiqueta, aceSlider])\n",
    "\n",
    "    play = widgets.Play(value=0, min=0, max=30, step=2, disabled=False)\n",
    "    tieEtiqueta = widgets.Label (value=\"Tiempo $(s)$:\")\n",
    "    tieSlider = widgets.IntSlider(min=0, max=30,)\n",
    "    widgets.jslink((play, 'value'), (tieSlider, 'value'))\n",
    "    cajaTiempo = widgets.HBox([tieEtiqueta, tieSlider])\n",
    "\n",
    "    salida = widgets.interactive_output(GraficoInteractivoGeneral, {'posInicial':posSlider,\n",
    "                                                                  'velInicial':velSlider,\n",
    "                                                                  'aceleración':aceSlider,\n",
    "                                                                  'tiempo':tieSlider})\n",
    "\n",
    "    display(cajaPosición, cajaVelocidad, cajaAceleracion, cajaTiempo, play, salida)\n",
    "import warnings\n",
    "warnings.filterwarnings('ignore')\n",
    "\n",
    "!jupyter nbextension enable --py widgetsnbextension --sys-prefix\n",
    "!jupyter serverextension enable voila --sys-prefix"
   ]
  },
  {
   "cell_type": "markdown",
   "metadata": {},
   "source": [
    "# Movimiento de una partícula en una dimensión"
   ]
  },
  {
   "cell_type": "markdown",
   "metadata": {},
   "source": [
    "Cuando una partícula presenta movimiento, este puede ser de tipo rectilíneo uniforme (MRU) o también rectilíneo uniforme acelerado (MRUA). Entre las principales ecuaciones se tienen:\n"
   ]
  },
  {
   "cell_type": "markdown",
   "metadata": {},
   "source": [
    "## Movimiento Rectilíneo Uniforme (MRU)"
   ]
  },
  {
   "cell_type": "markdown",
   "metadata": {},
   "source": [
    "La ecuación principal para un movimiento rectilíneo uniforme es igual a:\n",
    "$$\n",
    "v = \\dfrac{d}{t}\n",
    "$$\n",
    "\n",
    "Esta, por medio de operaciones algebraicas, se puede reescribir como:\n",
    "$$\n",
    "t = \\dfrac{d}{v}\n",
    "$$ $$\n",
    "d = vt\n",
    "$$\n"
   ]
  },
  {
   "cell_type": "markdown",
   "metadata": {},
   "source": [
    "Un ejemplo de este tipo de movimiento es el de un ciclista que realiza un recorrido manteniendo su velocidad en el mismo.\n"
   ]
  },
  {
   "cell_type": "markdown",
   "metadata": {},
   "source": []
  },
  {
   "cell_type": "markdown",
   "metadata": {},
   "source": [
    "## Movimiento Rectilíneo Uniforme Acelerado (MRUA)"
   ]
  },
  {
   "cell_type": "markdown",
   "metadata": {},
   "source": [
    "Cuando la partícula presenta aceleración, las ecuaciones se definen como:\n",
    "$$\n",
    "x = x_0 + v(t-t_0) + \\dfrac{1}{2}a(t-t_0)^2\n",
    "$$\n",
    "\n",
    "$$\n",
    "v = v_0 + a(t-t_0)\n",
    "$$\n",
    "\n",
    "$$\n",
    "v^2 = v_0^2 + 2a(x-x_0)\n",
    "$$\n"
   ]
  },
  {
   "cell_type": "markdown",
   "metadata": {},
   "source": [
    "Para el caso de los movimientos acelerados, se puede tomar como ejemplo el juego del dinosaurio de Google. El cual al inicio posee una velocidad baja, pero conforme se avanza, este va cada vez más rápido."
   ]
  },
  {
   "cell_type": "markdown",
   "metadata": {},
   "source": []
  },
  {
   "cell_type": "markdown",
   "metadata": {},
   "source": [
    "De igual forma se puede contemplar el caso de caída libre."
   ]
  },
  {
   "cell_type": "markdown",
   "metadata": {},
   "source": []
  },
  {
   "cell_type": "markdown",
   "metadata": {},
   "source": [
    "Con base a dichas ecuaciones se generan los siguientes gráficos para velocidad, desplazamiento y aceleración en función del tiempo."
   ]
  },
  {
   "cell_type": "code",
   "execution_count": 2,
   "metadata": {
    "scrolled": false
   },
   "outputs": [
    {
     "data": {
      "text/html": [
       "<script>\n",
       "code_show=false; \n",
       "function code_toggle() {\n",
       "    if (code_show){\n",
       "        $('div.cell.code_cell.rendered.selected div.input').hide();\n",
       "    } else {\n",
       "        $('div.cell.code_cell.rendered.selected div.input').show();\n",
       "    }\n",
       "    code_show = !code_show\n",
       "} \n",
       "\n",
       "$( document ).ready(code_toggle);\n",
       "</script>\n",
       "\n",
       "Para mostrar/ocultar código presione <a href=\"javascript:code_toggle()\">aquí</a>."
      ],
      "text/plain": [
       "<IPython.core.display.HTML object>"
      ]
     },
     "metadata": {},
     "output_type": "display_data"
    },
    {
     "data": {
      "application/vnd.jupyter.widget-view+json": {
       "model_id": "160fe08387eb4ce19421034005419135",
       "version_major": 2,
       "version_minor": 0
      },
      "text/plain": [
       "HBox(children=(Label(value='Velocidad Inicial $(m/s)$:'), IntSlider(value=0, max=15, min=-15)))"
      ]
     },
     "metadata": {},
     "output_type": "display_data"
    },
    {
     "data": {
      "application/vnd.jupyter.widget-view+json": {
       "model_id": "c9b243a1a0084b85bdbad914fd5453a4",
       "version_major": 2,
       "version_minor": 0
      },
      "text/plain": [
       "HBox(children=(Label(value='Aceleración $(m/s^2)$:'), FloatSlider(value=0.0, max=1.0, min=-1.0)))"
      ]
     },
     "metadata": {},
     "output_type": "display_data"
    },
    {
     "data": {
      "application/vnd.jupyter.widget-view+json": {
       "model_id": "0e35fa32e4d6416e85a3ce8005ebb36b",
       "version_major": 2,
       "version_minor": 0
      },
      "text/plain": [
       "HBox(children=(Label(value='Tiempo $(s)$:'), IntSlider(value=0, max=30)))"
      ]
     },
     "metadata": {},
     "output_type": "display_data"
    },
    {
     "data": {
      "application/vnd.jupyter.widget-view+json": {
       "model_id": "d9cc0414a6f04f5a9a1031c1c4bc3336",
       "version_major": 2,
       "version_minor": 0
      },
      "text/plain": [
       "Play(value=0, max=30, step=2)"
      ]
     },
     "metadata": {},
     "output_type": "display_data"
    },
    {
     "data": {
      "application/vnd.jupyter.widget-view+json": {
       "model_id": "b670e7e5cc7c49ad9e3b4fb888bbd442",
       "version_major": 2,
       "version_minor": 0
      },
      "text/plain": [
       "Output()"
      ]
     },
     "metadata": {},
     "output_type": "display_data"
    }
   ],
   "source": [
    "Velocidad ()"
   ]
  },
  {
   "cell_type": "markdown",
   "metadata": {},
   "source": [
    "Se observa que utlizando la ecuación:\n",
    "$$\n",
    "v = v_0 + a(t-t_0)\n",
    "$$\n",
    "La velocidad, tanto para un movimiento acelerado o no, tiene un comportamiento lineal, donde su pendiente depende de la aceleración y la velocidad inicial indica la intersección con el eje y.\n",
    "Para los casos donde se tiene un MRU, la aceleración es 0, por lo que la pendiente es nula y la velocidad se mantendrá constante por todo el recorrido.\n",
    "\n"
   ]
  },
  {
   "cell_type": "code",
   "execution_count": 3,
   "metadata": {
    "scrolled": false
   },
   "outputs": [
    {
     "data": {
      "text/html": [
       "<script>\n",
       "code_show=false; \n",
       "function code_toggle() {\n",
       "    if (code_show){\n",
       "        $('div.cell.code_cell.rendered.selected div.input').hide();\n",
       "    } else {\n",
       "        $('div.cell.code_cell.rendered.selected div.input').show();\n",
       "    }\n",
       "    code_show = !code_show\n",
       "} \n",
       "\n",
       "$( document ).ready(code_toggle);\n",
       "</script>\n",
       "\n",
       "Para mostrar/ocultar código presione <a href=\"javascript:code_toggle()\">aquí</a>."
      ],
      "text/plain": [
       "<IPython.core.display.HTML object>"
      ]
     },
     "metadata": {},
     "output_type": "display_data"
    },
    {
     "data": {
      "application/vnd.jupyter.widget-view+json": {
       "model_id": "f805896b5c61420698309a652439392a",
       "version_major": 2,
       "version_minor": 0
      },
      "text/plain": [
       "HBox(children=(Label(value='Posición Inicial $(m)$:'), IntSlider(value=0, max=10, min=-10)))"
      ]
     },
     "metadata": {},
     "output_type": "display_data"
    },
    {
     "data": {
      "application/vnd.jupyter.widget-view+json": {
       "model_id": "49ec5908c21640f5a71f540ab33a8e25",
       "version_major": 2,
       "version_minor": 0
      },
      "text/plain": [
       "HBox(children=(Label(value='Velocidad Inicial $(m/s)$:'), FloatSlider(value=0.0, max=0.1, min=-0.1, step=0.01)…"
      ]
     },
     "metadata": {},
     "output_type": "display_data"
    },
    {
     "data": {
      "application/vnd.jupyter.widget-view+json": {
       "model_id": "7bb34d1ee9d347999c650ab98c737c00",
       "version_major": 2,
       "version_minor": 0
      },
      "text/plain": [
       "HBox(children=(Label(value='Aceleración $(m/s^2)$:'), FloatSlider(value=0.0, max=0.1, min=-0.1, step=0.01)))"
      ]
     },
     "metadata": {},
     "output_type": "display_data"
    },
    {
     "data": {
      "application/vnd.jupyter.widget-view+json": {
       "model_id": "883a838c5d564faaaa5821e176e75dda",
       "version_major": 2,
       "version_minor": 0
      },
      "text/plain": [
       "HBox(children=(Label(value='Tiempo $(s)$:'), IntSlider(value=0, max=30)))"
      ]
     },
     "metadata": {},
     "output_type": "display_data"
    },
    {
     "data": {
      "application/vnd.jupyter.widget-view+json": {
       "model_id": "f67b132603e64d578d52830dd5b18a77",
       "version_major": 2,
       "version_minor": 0
      },
      "text/plain": [
       "Play(value=0, max=30, step=2)"
      ]
     },
     "metadata": {},
     "output_type": "display_data"
    },
    {
     "data": {
      "application/vnd.jupyter.widget-view+json": {
       "model_id": "f2060f0c8ac64285b9961983298a6644",
       "version_major": 2,
       "version_minor": 0
      },
      "text/plain": [
       "Output()"
      ]
     },
     "metadata": {},
     "output_type": "display_data"
    }
   ],
   "source": [
    "Posición ()"
   ]
  },
  {
   "cell_type": "markdown",
   "metadata": {},
   "source": [
    "Para el caso del desplazamiento, se puede utilizar la ecuación:\n",
    "$$\n",
    "x = x_0 + v(t-t_0) + \\dfrac{1}{2}a(t-t_0)^2\n",
    "$$\n",
    "La cual tiene la forma de una ecuación cuadrática.\n",
    "Se puede observar que con base a la ecuación anterior, la aceleración es el coeficiente cuadrático o la constante \"a\" en la expresión general. La velocidad es por su parte el coeficiente lineal o la constante \"b\". Finalmente, la posición incial es el coficiente independiente o la constante \"c\".\n"
   ]
  },
  {
   "cell_type": "code",
   "execution_count": 4,
   "metadata": {},
   "outputs": [
    {
     "data": {
      "text/html": [
       "<script>\n",
       "code_show=false; \n",
       "function code_toggle() {\n",
       "    if (code_show){\n",
       "        $('div.cell.code_cell.rendered.selected div.input').hide();\n",
       "    } else {\n",
       "        $('div.cell.code_cell.rendered.selected div.input').show();\n",
       "    }\n",
       "    code_show = !code_show\n",
       "} \n",
       "\n",
       "$( document ).ready(code_toggle);\n",
       "</script>\n",
       "\n",
       "Para mostrar/ocultar código presione <a href=\"javascript:code_toggle()\">aquí</a>."
      ],
      "text/plain": [
       "<IPython.core.display.HTML object>"
      ]
     },
     "metadata": {},
     "output_type": "display_data"
    },
    {
     "data": {
      "application/vnd.jupyter.widget-view+json": {
       "model_id": "5eb3ebdec8924986b586cbf53c073ab9",
       "version_major": 2,
       "version_minor": 0
      },
      "text/plain": [
       "HBox(children=(Label(value='Posición Inicial $(m)$:'), IntSlider(value=0, max=10, min=-10)))"
      ]
     },
     "metadata": {},
     "output_type": "display_data"
    },
    {
     "data": {
      "application/vnd.jupyter.widget-view+json": {
       "model_id": "4e2124a23fdf4b44a4eda0fd620adb0b",
       "version_major": 2,
       "version_minor": 0
      },
      "text/plain": [
       "HBox(children=(Label(value='Velocidad Inicial $(m/s)$:'), IntSlider(value=0, max=50, min=-50)))"
      ]
     },
     "metadata": {},
     "output_type": "display_data"
    },
    {
     "data": {
      "application/vnd.jupyter.widget-view+json": {
       "model_id": "d0b377cd868141e9b87366765f3d338c",
       "version_major": 2,
       "version_minor": 0
      },
      "text/plain": [
       "HBox(children=(Label(value='Aceleración $(m/s^2)$:'), IntSlider(value=0, max=5, min=-5)))"
      ]
     },
     "metadata": {},
     "output_type": "display_data"
    },
    {
     "data": {
      "application/vnd.jupyter.widget-view+json": {
       "model_id": "658d5bf2461f4226af072c74c2cd4f30",
       "version_major": 2,
       "version_minor": 0
      },
      "text/plain": [
       "HBox(children=(Label(value='Tiempo $(s)$:'), IntSlider(value=0, max=30)))"
      ]
     },
     "metadata": {},
     "output_type": "display_data"
    },
    {
     "data": {
      "application/vnd.jupyter.widget-view+json": {
       "model_id": "c3f333b665274cc0823ccdc80b375eb1",
       "version_major": 2,
       "version_minor": 0
      },
      "text/plain": [
       "Play(value=0, max=30, step=2)"
      ]
     },
     "metadata": {},
     "output_type": "display_data"
    },
    {
     "data": {
      "application/vnd.jupyter.widget-view+json": {
       "model_id": "cf4c7b2b49ad4b219d2cb52201787c6b",
       "version_major": 2,
       "version_minor": 0
      },
      "text/plain": [
       "Output()"
      ]
     },
     "metadata": {},
     "output_type": "display_data"
    }
   ],
   "source": [
    "Aceleración ()"
   ]
  },
  {
   "cell_type": "markdown",
   "metadata": {},
   "source": [
    "Finalmente al graficar la aceleración en el recorrido, se observa que esta es independiente de la posición y la velocidad inicial. Esta mantiene un comportamiento constante durante cada instante del movimiento, debido a que se está trabajando con problemas de aceleración constante. "
   ]
  },
  {
   "cell_type": "code",
   "execution_count": 5,
   "metadata": {},
   "outputs": [
    {
     "data": {
      "text/html": [
       "<script>\n",
       "code_show=false; \n",
       "function code_toggle() {\n",
       "    if (code_show){\n",
       "        $('div.cell.code_cell.rendered.selected div.input').hide();\n",
       "    } else {\n",
       "        $('div.cell.code_cell.rendered.selected div.input').show();\n",
       "    }\n",
       "    code_show = !code_show\n",
       "} \n",
       "\n",
       "$( document ).ready(code_toggle);\n",
       "</script>\n",
       "\n",
       "Para mostrar/ocultar código presione <a href=\"javascript:code_toggle()\">aquí</a>."
      ],
      "text/plain": [
       "<IPython.core.display.HTML object>"
      ]
     },
     "metadata": {},
     "output_type": "display_data"
    },
    {
     "data": {
      "application/vnd.jupyter.widget-view+json": {
       "model_id": "1ec178e13e6743cca84f4920c7bada3d",
       "version_major": 2,
       "version_minor": 0
      },
      "text/plain": [
       "HBox(children=(Label(value='Posición Inicial $(m)$:'), IntSlider(value=0, max=10, min=-10)))"
      ]
     },
     "metadata": {},
     "output_type": "display_data"
    },
    {
     "data": {
      "application/vnd.jupyter.widget-view+json": {
       "model_id": "e1b3032e8850483bb3eb176e56a70051",
       "version_major": 2,
       "version_minor": 0
      },
      "text/plain": [
       "HBox(children=(Label(value='Velocidad Inicial $(m/s)$:'), FloatSlider(value=0.0, max=0.1, min=-0.1, step=0.01)…"
      ]
     },
     "metadata": {},
     "output_type": "display_data"
    },
    {
     "data": {
      "application/vnd.jupyter.widget-view+json": {
       "model_id": "a1e9b37433c14be4840567c1bb30b087",
       "version_major": 2,
       "version_minor": 0
      },
      "text/plain": [
       "HBox(children=(Label(value='Aceleración $(m/s^2)$:'), FloatSlider(value=0.0, max=0.1, min=-0.1, step=0.01)))"
      ]
     },
     "metadata": {},
     "output_type": "display_data"
    },
    {
     "data": {
      "application/vnd.jupyter.widget-view+json": {
       "model_id": "7da4a5e16acf495582bb6489603e6394",
       "version_major": 2,
       "version_minor": 0
      },
      "text/plain": [
       "HBox(children=(Label(value='Tiempo $(s)$:'), IntSlider(value=0, max=30)))"
      ]
     },
     "metadata": {},
     "output_type": "display_data"
    },
    {
     "data": {
      "application/vnd.jupyter.widget-view+json": {
       "model_id": "19fd79cd662d4eb7a2ae6ca4358d5449",
       "version_major": 2,
       "version_minor": 0
      },
      "text/plain": [
       "Play(value=0, max=30, step=2)"
      ]
     },
     "metadata": {},
     "output_type": "display_data"
    },
    {
     "data": {
      "application/vnd.jupyter.widget-view+json": {
       "model_id": "c0b1944d65344d508c59fd15392b4afa",
       "version_major": 2,
       "version_minor": 0
      },
      "text/plain": [
       "Output()"
      ]
     },
     "metadata": {},
     "output_type": "display_data"
    }
   ],
   "source": [
    "GraficasVarias ()"
   ]
  },
  {
   "cell_type": "code",
   "execution_count": 6,
   "metadata": {},
   "outputs": [],
   "source": [
    "!pip freeze > requirements.txt"
   ]
  },
  {
   "cell_type": "code",
   "execution_count": null,
   "metadata": {},
   "outputs": [],
   "source": []
  }
 ],
 "metadata": {
  "kernelspec": {
   "display_name": "Python 3",
   "language": "python",
   "name": "python3"
  },
  "language_info": {
   "codemirror_mode": {
    "name": "ipython",
    "version": 3
   },
   "file_extension": ".py",
   "mimetype": "text/x-python",
   "name": "python",
   "nbconvert_exporter": "python",
   "pygments_lexer": "ipython3",
   "version": "3.8.8"
  },
  "widgets": {
   "application/vnd.jupyter.widget-state+json": {
    "state": {
     "00cd2a6a893e45d2940b7c0147d4a251": {
      "model_module": "@jupyter-widgets/controls",
      "model_module_version": "1.5.0",
      "model_name": "DescriptionStyleModel",
      "state": {
       "description_width": ""
      }
     },
     "01df7141fa844a31abe78f3369939616": {
      "model_module": "@jupyter-widgets/controls",
      "model_module_version": "1.5.0",
      "model_name": "DescriptionStyleModel",
      "state": {
       "description_width": ""
      }
     },
     "01ff281308fd4705985d2ed6f314b95e": {
      "model_module": "@jupyter-widgets/controls",
      "model_module_version": "1.5.0",
      "model_name": "PlayModel",
      "state": {
       "layout": "IPY_MODEL_1c0c141550cd4b8f83eb2bb8799762f2",
       "max": 30,
       "step": 2,
       "style": "IPY_MODEL_e6596c1d6d9b46e9bb25cfb590cccb8e"
      }
     },
     "02b4b9f76bd94ed5bce6dd031fe98624": {
      "model_module": "@jupyter-widgets/controls",
      "model_module_version": "1.5.0",
      "model_name": "DescriptionStyleModel",
      "state": {
       "description_width": ""
      }
     },
     "05efae5273dd41e1ba3420e39d7bf4e3": {
      "model_module": "@jupyter-widgets/base",
      "model_module_version": "1.2.0",
      "model_name": "LayoutModel",
      "state": {}
     },
     "077aa2f9968e4fcb9dfa039b1e603765": {
      "model_module": "@jupyter-widgets/base",
      "model_module_version": "1.2.0",
      "model_name": "LayoutModel",
      "state": {}
     },
     "0d48f8e279124aacab52a4719e75ca79": {
      "model_module": "@jupyter-widgets/base",
      "model_module_version": "1.2.0",
      "model_name": "LayoutModel",
      "state": {}
     },
     "0f232b5e3107448ba51ccaf3ec6d4437": {
      "model_module": "@jupyter-widgets/base",
      "model_module_version": "1.2.0",
      "model_name": "LayoutModel",
      "state": {}
     },
     "1065b73d905848ef8bbb96104448293c": {
      "model_module": "@jupyter-widgets/base",
      "model_module_version": "1.2.0",
      "model_name": "LayoutModel",
      "state": {}
     },
     "12185e0bd8e54f52a73ee17683253272": {
      "model_module": "@jupyter-widgets/controls",
      "model_module_version": "1.5.0",
      "model_name": "LinkModel",
      "state": {
       "source": [
        "IPY_MODEL_01ff281308fd4705985d2ed6f314b95e",
        "value"
       ],
       "target": [
        "IPY_MODEL_3547b210435746cf995b0cb590e7c92c",
        "value"
       ]
      }
     },
     "132bde097d4b42bb9cd459755c60fa03": {
      "model_module": "@jupyter-widgets/controls",
      "model_module_version": "1.5.0",
      "model_name": "LabelModel",
      "state": {
       "layout": "IPY_MODEL_c8b9044bc8764a7dbf265e1742a5811e",
       "style": "IPY_MODEL_43b7344597c842669584936c0cecdcef",
       "value": "Tiempo $(s)$:"
      }
     },
     "13ad9ded83114d3dad57f2bf5b9e4398": {
      "model_module": "@jupyter-widgets/output",
      "model_module_version": "1.0.0",
      "model_name": "OutputModel",
      "state": {
       "layout": "IPY_MODEL_d1ed6ccd76c1486982fe2c8390b4a8e0",
       "outputs": [
        {
         "data": {
          "image/png": "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\n",
          "text/plain": "<Figure size 720x480 with 1 Axes>"
         },
         "metadata": {
          "needs_background": "light"
         },
         "output_type": "display_data"
        }
       ]
      }
     },
     "13b232dca52345eab63f44994bde889b": {
      "model_module": "@jupyter-widgets/base",
      "model_module_version": "1.2.0",
      "model_name": "LayoutModel",
      "state": {}
     },
     "14054cfdc55945869694ed430d44ee48": {
      "model_module": "@jupyter-widgets/controls",
      "model_module_version": "1.5.0",
      "model_name": "LabelModel",
      "state": {
       "layout": "IPY_MODEL_8b300b90f2b14ce0ba0471a7ddcc4184",
       "style": "IPY_MODEL_44c03ba8930948219b587169a7fbc5c4",
       "value": "Aceleración $(m/s^2)$:"
      }
     },
     "14363e0dd80246218cfb67e2c58fc84c": {
      "model_module": "@jupyter-widgets/base",
      "model_module_version": "1.2.0",
      "model_name": "LayoutModel",
      "state": {}
     },
     "17e1554e7db04bdfb7c5bd90091bf50c": {
      "model_module": "@jupyter-widgets/base",
      "model_module_version": "1.2.0",
      "model_name": "LayoutModel",
      "state": {}
     },
     "1b9f091cf7ac41eb8a2ed2fb8895a91f": {
      "model_module": "@jupyter-widgets/base",
      "model_module_version": "1.2.0",
      "model_name": "LayoutModel",
      "state": {}
     },
     "1c0c141550cd4b8f83eb2bb8799762f2": {
      "model_module": "@jupyter-widgets/base",
      "model_module_version": "1.2.0",
      "model_name": "LayoutModel",
      "state": {}
     },
     "1e40249240a84b339037558a068b2e6c": {
      "model_module": "@jupyter-widgets/controls",
      "model_module_version": "1.5.0",
      "model_name": "LabelModel",
      "state": {
       "layout": "IPY_MODEL_bdba7f09778249ca989e61420338bce2",
       "style": "IPY_MODEL_01df7141fa844a31abe78f3369939616",
       "value": "Tiempo $(s)$:"
      }
     },
     "21808fd7c21d44798e4925498caac7e0": {
      "model_module": "@jupyter-widgets/controls",
      "model_module_version": "1.5.0",
      "model_name": "HBoxModel",
      "state": {
       "children": [
        "IPY_MODEL_7a36aabf64fe4226af8183daff02b8b3",
        "IPY_MODEL_b1988cfb5e0e4d529fd72692589fed0d"
       ],
       "layout": "IPY_MODEL_52715774692144dc987248aedb754dbc"
      }
     },
     "26274c6186074be795494eb4dd2112a1": {
      "model_module": "@jupyter-widgets/controls",
      "model_module_version": "1.5.0",
      "model_name": "LabelModel",
      "state": {
       "layout": "IPY_MODEL_1065b73d905848ef8bbb96104448293c",
       "style": "IPY_MODEL_defa2a2c277b4b16abe54da44b8db4d7",
       "value": "Aceleración $(m/s^2)$:"
      }
     },
     "2b4bc37df49b4dba89cbc08514ac5fa3": {
      "model_module": "@jupyter-widgets/controls",
      "model_module_version": "1.5.0",
      "model_name": "LabelModel",
      "state": {
       "layout": "IPY_MODEL_b51d637786dc452fa7d5cd76d05f3ecb",
       "style": "IPY_MODEL_4198bf07f43c435e9b9894e826a9838c",
       "value": "Velocidad Inicial $(m/s)$:"
      }
     },
     "30130cd28b354cd0bb2afaa1cce0cb1f": {
      "model_module": "@jupyter-widgets/controls",
      "model_module_version": "1.5.0",
      "model_name": "SliderStyleModel",
      "state": {
       "description_width": ""
      }
     },
     "308d073b09a54b6a97d81ae4efbe27c8": {
      "model_module": "@jupyter-widgets/controls",
      "model_module_version": "1.5.0",
      "model_name": "IntSliderModel",
      "state": {
       "layout": "IPY_MODEL_1b9f091cf7ac41eb8a2ed2fb8895a91f",
       "max": 10,
       "min": -10,
       "style": "IPY_MODEL_3b3d6ae5aea94493814d575c74984d62"
      }
     },
     "315dfc69ade846e69f051d2f516c6238": {
      "model_module": "@jupyter-widgets/base",
      "model_module_version": "1.2.0",
      "model_name": "LayoutModel",
      "state": {}
     },
     "340835fea2174583816be9e408bd027d": {
      "model_module": "@jupyter-widgets/base",
      "model_module_version": "1.2.0",
      "model_name": "LayoutModel",
      "state": {}
     },
     "353d0acb02ed436a88c1b7fc4d38f098": {
      "model_module": "@jupyter-widgets/controls",
      "model_module_version": "1.5.0",
      "model_name": "SliderStyleModel",
      "state": {
       "description_width": ""
      }
     },
     "3547b210435746cf995b0cb590e7c92c": {
      "model_module": "@jupyter-widgets/controls",
      "model_module_version": "1.5.0",
      "model_name": "IntSliderModel",
      "state": {
       "layout": "IPY_MODEL_38a218cd244f4bf8a3970df4cc22afa6",
       "max": 30,
       "style": "IPY_MODEL_cc59573e5e2a43a7a18dbb1c3289d9c6"
      }
     },
     "38a218cd244f4bf8a3970df4cc22afa6": {
      "model_module": "@jupyter-widgets/base",
      "model_module_version": "1.2.0",
      "model_name": "LayoutModel",
      "state": {}
     },
     "3a9832fe9f554c6988bd85a4aa7c5951": {
      "model_module": "@jupyter-widgets/controls",
      "model_module_version": "1.5.0",
      "model_name": "LabelModel",
      "state": {
       "layout": "IPY_MODEL_f800d790553f4fa0972cd4e43419ed77",
       "style": "IPY_MODEL_bf9de8c38f5d4eb0be5539ba76459ec7",
       "value": "Posición Inicial $(m)$:"
      }
     },
     "3b3d6ae5aea94493814d575c74984d62": {
      "model_module": "@jupyter-widgets/controls",
      "model_module_version": "1.5.0",
      "model_name": "SliderStyleModel",
      "state": {
       "description_width": ""
      }
     },
     "3cc53170cb6843d2b28f40c6ed854789": {
      "model_module": "@jupyter-widgets/base",
      "model_module_version": "1.2.0",
      "model_name": "LayoutModel",
      "state": {}
     },
     "3d21f91118a742ddb0c1bf307f2f9ab0": {
      "model_module": "@jupyter-widgets/controls",
      "model_module_version": "1.5.0",
      "model_name": "HBoxModel",
      "state": {
       "children": [
        "IPY_MODEL_c59be07052e940fdb3f16990d29e9251",
        "IPY_MODEL_7c2d8ad5bd9148388a86746ab9e04282"
       ],
       "layout": "IPY_MODEL_a5696fc37ae94f26acf2c8908ed82e3a"
      }
     },
     "408ea8676c834144bbd15d61ff58107a": {
      "model_module": "@jupyter-widgets/controls",
      "model_module_version": "1.5.0",
      "model_name": "LabelModel",
      "state": {
       "layout": "IPY_MODEL_f775666c15f14a0bb491b66af15fae19",
       "style": "IPY_MODEL_49819fcf863043779b3c8b8c7bc1d22e",
       "value": "Aceleración $(m/s^2)$:"
      }
     },
     "418bcf7b3e634c8dab3033aa21af319b": {
      "model_module": "@jupyter-widgets/controls",
      "model_module_version": "1.5.0",
      "model_name": "SliderStyleModel",
      "state": {
       "description_width": ""
      }
     },
     "4198bf07f43c435e9b9894e826a9838c": {
      "model_module": "@jupyter-widgets/controls",
      "model_module_version": "1.5.0",
      "model_name": "DescriptionStyleModel",
      "state": {
       "description_width": ""
      }
     },
     "41c2720968ef45be9c35a00b0fd6a1af": {
      "model_module": "@jupyter-widgets/base",
      "model_module_version": "1.2.0",
      "model_name": "LayoutModel",
      "state": {}
     },
     "43b7344597c842669584936c0cecdcef": {
      "model_module": "@jupyter-widgets/controls",
      "model_module_version": "1.5.0",
      "model_name": "DescriptionStyleModel",
      "state": {
       "description_width": ""
      }
     },
     "44c03ba8930948219b587169a7fbc5c4": {
      "model_module": "@jupyter-widgets/controls",
      "model_module_version": "1.5.0",
      "model_name": "DescriptionStyleModel",
      "state": {
       "description_width": ""
      }
     },
     "4731cc209fb54969be4302ae19f9ebf8": {
      "model_module": "@jupyter-widgets/base",
      "model_module_version": "1.2.0",
      "model_name": "LayoutModel",
      "state": {}
     },
     "4765a2eee62d4753963f3e2f7920aec5": {
      "model_module": "@jupyter-widgets/base",
      "model_module_version": "1.2.0",
      "model_name": "LayoutModel",
      "state": {}
     },
     "47d6bac34bcb4d108148a17686646292": {
      "model_module": "@jupyter-widgets/base",
      "model_module_version": "1.2.0",
      "model_name": "LayoutModel",
      "state": {}
     },
     "47e0fbc21c474be9ab0f581f94f7b16a": {
      "model_module": "@jupyter-widgets/controls",
      "model_module_version": "1.5.0",
      "model_name": "DescriptionStyleModel",
      "state": {
       "description_width": ""
      }
     },
     "49819fcf863043779b3c8b8c7bc1d22e": {
      "model_module": "@jupyter-widgets/controls",
      "model_module_version": "1.5.0",
      "model_name": "DescriptionStyleModel",
      "state": {
       "description_width": ""
      }
     },
     "4a302a58ceb1495bb4f7d913f1c29172": {
      "model_module": "@jupyter-widgets/controls",
      "model_module_version": "1.5.0",
      "model_name": "HBoxModel",
      "state": {
       "children": [
        "IPY_MODEL_408ea8676c834144bbd15d61ff58107a",
        "IPY_MODEL_67678867feed4367bf197cba73d10543"
       ],
       "layout": "IPY_MODEL_9c13f75f39f54d58a912b3ce04667503"
      }
     },
     "4c3324c1769d45e3b79917dc9412fac2": {
      "model_module": "@jupyter-widgets/controls",
      "model_module_version": "1.5.0",
      "model_name": "IntSliderModel",
      "state": {
       "layout": "IPY_MODEL_14363e0dd80246218cfb67e2c58fc84c",
       "max": 5,
       "min": -5,
       "style": "IPY_MODEL_978a730f411049c0a6601228788e10bc"
      }
     },
     "508b264b4c1746b488cf8ac5a47a8f98": {
      "model_module": "@jupyter-widgets/controls",
      "model_module_version": "1.5.0",
      "model_name": "HBoxModel",
      "state": {
       "children": [
        "IPY_MODEL_5dc70bb2d9334d7f93e5af458db17d20",
        "IPY_MODEL_8d90240d642e48ecbccdec4afd0cd7fb"
       ],
       "layout": "IPY_MODEL_7f7e3929c4604c0797bd5ab46192f5ac"
      }
     },
     "517366e028f8464eb8330641fc4f8c8f": {
      "model_module": "@jupyter-widgets/controls",
      "model_module_version": "1.5.0",
      "model_name": "HBoxModel",
      "state": {
       "children": [
        "IPY_MODEL_2b4bc37df49b4dba89cbc08514ac5fa3",
        "IPY_MODEL_9d2259711f414f54bd86818ebb65cf08"
       ],
       "layout": "IPY_MODEL_f0fb406a5d2d49b786fb0230b4cc6ed3"
      }
     },
     "52715774692144dc987248aedb754dbc": {
      "model_module": "@jupyter-widgets/base",
      "model_module_version": "1.2.0",
      "model_name": "LayoutModel",
      "state": {}
     },
     "57a8f710118447e89f4f0f0e4dcc9b8b": {
      "model_module": "@jupyter-widgets/base",
      "model_module_version": "1.2.0",
      "model_name": "LayoutModel",
      "state": {}
     },
     "5873d7ea5f314e77804246d0a832c761": {
      "model_module": "@jupyter-widgets/controls",
      "model_module_version": "1.5.0",
      "model_name": "SliderStyleModel",
      "state": {
       "description_width": ""
      }
     },
     "5a378522502047aa94919025cdc82f3f": {
      "model_module": "@jupyter-widgets/controls",
      "model_module_version": "1.5.0",
      "model_name": "DescriptionStyleModel",
      "state": {
       "description_width": ""
      }
     },
     "5bcb82ac820a4e6882aac353d6a40171": {
      "model_module": "@jupyter-widgets/controls",
      "model_module_version": "1.5.0",
      "model_name": "IntSliderModel",
      "state": {
       "layout": "IPY_MODEL_8387dec12c2b4668ad5c8c7562f402a8",
       "max": 30,
       "style": "IPY_MODEL_30130cd28b354cd0bb2afaa1cce0cb1f"
      }
     },
     "5dc70bb2d9334d7f93e5af458db17d20": {
      "model_module": "@jupyter-widgets/controls",
      "model_module_version": "1.5.0",
      "model_name": "LabelModel",
      "state": {
       "layout": "IPY_MODEL_e8658736a02b41c3adac4861795b039e",
       "style": "IPY_MODEL_d4ae2bc3b5434c6f8c4e0e057a5fff73",
       "value": "Aceleración $(m/s^2)$:"
      }
     },
     "5e865cfdbad944ab97c4d05871c1d039": {
      "model_module": "@jupyter-widgets/controls",
      "model_module_version": "1.5.0",
      "model_name": "HBoxModel",
      "state": {
       "children": [
        "IPY_MODEL_14054cfdc55945869694ed430d44ee48",
        "IPY_MODEL_9f2829c656684afe99509b3599a7fd77"
       ],
       "layout": "IPY_MODEL_17e1554e7db04bdfb7c5bd90091bf50c"
      }
     },
     "5f641c685094493db8b5d0e0754d7f16": {
      "model_module": "@jupyter-widgets/controls",
      "model_module_version": "1.5.0",
      "model_name": "IntSliderModel",
      "state": {
       "layout": "IPY_MODEL_d2a39c273c5441afb817f472a9467ebc",
       "max": 50,
       "min": -50,
       "style": "IPY_MODEL_418bcf7b3e634c8dab3033aa21af319b"
      }
     },
     "609b417093934db488d12dd92affe584": {
      "model_module": "@jupyter-widgets/controls",
      "model_module_version": "1.5.0",
      "model_name": "LabelModel",
      "state": {
       "layout": "IPY_MODEL_05efae5273dd41e1ba3420e39d7bf4e3",
       "style": "IPY_MODEL_00cd2a6a893e45d2940b7c0147d4a251",
       "value": "Tiempo $(s)$:"
      }
     },
     "65a5b840a91c49d29697542b02e5e7fe": {
      "model_module": "@jupyter-widgets/controls",
      "model_module_version": "1.5.0",
      "model_name": "FloatSliderModel",
      "state": {
       "layout": "IPY_MODEL_0f232b5e3107448ba51ccaf3ec6d4437",
       "max": 0.1,
       "min": -0.1,
       "step": 0.01,
       "style": "IPY_MODEL_353d0acb02ed436a88c1b7fc4d38f098"
      }
     },
     "661e391e7c5a44478b433e08102db259": {
      "model_module": "@jupyter-widgets/controls",
      "model_module_version": "1.5.0",
      "model_name": "SliderStyleModel",
      "state": {
       "description_width": ""
      }
     },
     "67678867feed4367bf197cba73d10543": {
      "model_module": "@jupyter-widgets/controls",
      "model_module_version": "1.5.0",
      "model_name": "FloatSliderModel",
      "state": {
       "layout": "IPY_MODEL_fd684755910c47d293bb05addf99ea88",
       "max": 0.1,
       "min": -0.1,
       "step": 0.01,
       "style": "IPY_MODEL_661e391e7c5a44478b433e08102db259"
      }
     },
     "6bafc3d58b2f4d66bef7937b9bf68d61": {
      "model_module": "@jupyter-widgets/base",
      "model_module_version": "1.2.0",
      "model_name": "LayoutModel",
      "state": {}
     },
     "6dbd3efeca9d4f65a707f0ff1e1dd7d2": {
      "model_module": "@jupyter-widgets/base",
      "model_module_version": "1.2.0",
      "model_name": "LayoutModel",
      "state": {}
     },
     "7122235239314361ab6a48a2155d3d69": {
      "model_module": "@jupyter-widgets/controls",
      "model_module_version": "1.5.0",
      "model_name": "DescriptionStyleModel",
      "state": {
       "description_width": ""
      }
     },
     "723542bbacd64081b16d983235bd2129": {
      "model_module": "@jupyter-widgets/controls",
      "model_module_version": "1.5.0",
      "model_name": "DescriptionStyleModel",
      "state": {
       "description_width": ""
      }
     },
     "78bc03e39d134274a37bdb77e38c2849": {
      "model_module": "@jupyter-widgets/controls",
      "model_module_version": "1.5.0",
      "model_name": "SliderStyleModel",
      "state": {
       "description_width": ""
      }
     },
     "7a36aabf64fe4226af8183daff02b8b3": {
      "model_module": "@jupyter-widgets/controls",
      "model_module_version": "1.5.0",
      "model_name": "LabelModel",
      "state": {
       "layout": "IPY_MODEL_b2f62fab1b454f70aedaca72169c3477",
       "style": "IPY_MODEL_d49ea36f1818456da47da019b5e31f90",
       "value": "Posición Inicial $(m)$:"
      }
     },
     "7ab230240b784e08b87989e2ef064966": {
      "model_module": "@jupyter-widgets/base",
      "model_module_version": "1.2.0",
      "model_name": "LayoutModel",
      "state": {}
     },
     "7c2d8ad5bd9148388a86746ab9e04282": {
      "model_module": "@jupyter-widgets/controls",
      "model_module_version": "1.5.0",
      "model_name": "FloatSliderModel",
      "state": {
       "layout": "IPY_MODEL_890c1037d2094e5b8f711bc36a9c5811",
       "max": 0.1,
       "min": -0.1,
       "step": 0.01,
       "style": "IPY_MODEL_e09913ff7450423a9d0000017bd717dc"
      }
     },
     "7e073211ae0b4a29bc27ddc9f790dd65": {
      "model_module": "@jupyter-widgets/base",
      "model_module_version": "1.2.0",
      "model_name": "LayoutModel",
      "state": {}
     },
     "7f7e3929c4604c0797bd5ab46192f5ac": {
      "model_module": "@jupyter-widgets/base",
      "model_module_version": "1.2.0",
      "model_name": "LayoutModel",
      "state": {}
     },
     "8387dec12c2b4668ad5c8c7562f402a8": {
      "model_module": "@jupyter-widgets/base",
      "model_module_version": "1.2.0",
      "model_name": "LayoutModel",
      "state": {}
     },
     "868dc00ae789446582582f2ed4311460": {
      "model_module": "@jupyter-widgets/controls",
      "model_module_version": "1.5.0",
      "model_name": "SliderStyleModel",
      "state": {
       "description_width": ""
      }
     },
     "87db6707bc6a49958300637ed89953db": {
      "model_module": "@jupyter-widgets/controls",
      "model_module_version": "1.5.0",
      "model_name": "IntSliderModel",
      "state": {
       "layout": "IPY_MODEL_57a8f710118447e89f4f0f0e4dcc9b8b",
       "max": 30,
       "style": "IPY_MODEL_5873d7ea5f314e77804246d0a832c761"
      }
     },
     "890c1037d2094e5b8f711bc36a9c5811": {
      "model_module": "@jupyter-widgets/base",
      "model_module_version": "1.2.0",
      "model_name": "LayoutModel",
      "state": {}
     },
     "8a52b88762a64c32802267a2b214848e": {
      "model_module": "@jupyter-widgets/base",
      "model_module_version": "1.2.0",
      "model_name": "LayoutModel",
      "state": {}
     },
     "8b300b90f2b14ce0ba0471a7ddcc4184": {
      "model_module": "@jupyter-widgets/base",
      "model_module_version": "1.2.0",
      "model_name": "LayoutModel",
      "state": {}
     },
     "8c783f2448ed47f0a30bbe888fa35293": {
      "model_module": "@jupyter-widgets/base",
      "model_module_version": "1.2.0",
      "model_name": "LayoutModel",
      "state": {}
     },
     "8d90240d642e48ecbccdec4afd0cd7fb": {
      "model_module": "@jupyter-widgets/controls",
      "model_module_version": "1.5.0",
      "model_name": "FloatSliderModel",
      "state": {
       "layout": "IPY_MODEL_9f9c7255666141acb7b770b8f8272b41",
       "max": 1,
       "min": -1,
       "step": 0.1,
       "style": "IPY_MODEL_78bc03e39d134274a37bdb77e38c2849"
      }
     },
     "8f53e4567db1422696027553022a0801": {
      "model_module": "@jupyter-widgets/base",
      "model_module_version": "1.2.0",
      "model_name": "LayoutModel",
      "state": {}
     },
     "9049b5cdeed54b9789f6f2098c64d20c": {
      "model_module": "@jupyter-widgets/controls",
      "model_module_version": "1.5.0",
      "model_name": "IntSliderModel",
      "state": {
       "layout": "IPY_MODEL_8f53e4567db1422696027553022a0801",
       "max": 30,
       "style": "IPY_MODEL_f3b19c520c9a45e88c2fa82258a765ab"
      }
     },
     "943299d24492464b85e7f3222d60b40a": {
      "model_module": "@jupyter-widgets/controls",
      "model_module_version": "1.5.0",
      "model_name": "HBoxModel",
      "state": {
       "children": [
        "IPY_MODEL_26274c6186074be795494eb4dd2112a1",
        "IPY_MODEL_4c3324c1769d45e3b79917dc9412fac2"
       ],
       "layout": "IPY_MODEL_47d6bac34bcb4d108148a17686646292"
      }
     },
     "978a730f411049c0a6601228788e10bc": {
      "model_module": "@jupyter-widgets/controls",
      "model_module_version": "1.5.0",
      "model_name": "SliderStyleModel",
      "state": {
       "description_width": ""
      }
     },
     "9c13f75f39f54d58a912b3ce04667503": {
      "model_module": "@jupyter-widgets/base",
      "model_module_version": "1.2.0",
      "model_name": "LayoutModel",
      "state": {}
     },
     "9c68d8821ac64699977da7febe23d976": {
      "model_module": "@jupyter-widgets/controls",
      "model_module_version": "1.5.0",
      "model_name": "SliderStyleModel",
      "state": {
       "description_width": ""
      }
     },
     "9d2259711f414f54bd86818ebb65cf08": {
      "model_module": "@jupyter-widgets/controls",
      "model_module_version": "1.5.0",
      "model_name": "IntSliderModel",
      "state": {
       "layout": "IPY_MODEL_b4ece2878f714e5e8580cae1ce2c3add",
       "max": 15,
       "min": -15,
       "style": "IPY_MODEL_f76a1bca3a664fc6b6d231ebe0458ada"
      }
     },
     "9eb27f50653e43e997627221c4ed3e0a": {
      "model_module": "@jupyter-widgets/controls",
      "model_module_version": "1.5.0",
      "model_name": "PlayModel",
      "state": {
       "layout": "IPY_MODEL_077aa2f9968e4fcb9dfa039b1e603765",
       "max": 30,
       "step": 2,
       "style": "IPY_MODEL_5a378522502047aa94919025cdc82f3f"
      }
     },
     "9f2829c656684afe99509b3599a7fd77": {
      "model_module": "@jupyter-widgets/controls",
      "model_module_version": "1.5.0",
      "model_name": "FloatSliderModel",
      "state": {
       "layout": "IPY_MODEL_a2b8c028ef684107a1a5c739e0dccd85",
       "max": 0.1,
       "min": -0.1,
       "step": 0.01,
       "style": "IPY_MODEL_9c68d8821ac64699977da7febe23d976"
      }
     },
     "9f9c7255666141acb7b770b8f8272b41": {
      "model_module": "@jupyter-widgets/base",
      "model_module_version": "1.2.0",
      "model_name": "LayoutModel",
      "state": {}
     },
     "a02d79b74c1247bcad41f8cdc9932c8d": {
      "model_module": "@jupyter-widgets/controls",
      "model_module_version": "1.5.0",
      "model_name": "DescriptionStyleModel",
      "state": {
       "description_width": ""
      }
     },
     "a2b8c028ef684107a1a5c739e0dccd85": {
      "model_module": "@jupyter-widgets/base",
      "model_module_version": "1.2.0",
      "model_name": "LayoutModel",
      "state": {}
     },
     "a2d8ace2115a48e09a554a185419338a": {
      "model_module": "@jupyter-widgets/output",
      "model_module_version": "1.0.0",
      "model_name": "OutputModel",
      "state": {
       "layout": "IPY_MODEL_ffe71078b08542cebfe076d78fa611cc",
       "outputs": [
        {
         "data": {
          "image/png": "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\n",
          "text/plain": "<Figure size 720x480 with 1 Axes>"
         },
         "metadata": {
          "needs_background": "light"
         },
         "output_type": "display_data"
        }
       ]
      }
     },
     "a5696fc37ae94f26acf2c8908ed82e3a": {
      "model_module": "@jupyter-widgets/base",
      "model_module_version": "1.2.0",
      "model_name": "LayoutModel",
      "state": {}
     },
     "a76f6794fee349dc956f6fa47123bee6": {
      "model_module": "@jupyter-widgets/controls",
      "model_module_version": "1.5.0",
      "model_name": "LinkModel",
      "state": {
       "source": [
        "IPY_MODEL_9eb27f50653e43e997627221c4ed3e0a",
        "value"
       ],
       "target": [
        "IPY_MODEL_5bcb82ac820a4e6882aac353d6a40171",
        "value"
       ]
      }
     },
     "a88840af4a2844d2ae0a3b52a63edea3": {
      "model_module": "@jupyter-widgets/output",
      "model_module_version": "1.0.0",
      "model_name": "OutputModel",
      "state": {
       "layout": "IPY_MODEL_0d48f8e279124aacab52a4719e75ca79",
       "outputs": [
        {
         "data": {
          "image/png": "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\n",
          "text/plain": "<Figure size 2400x840 with 3 Axes>"
         },
         "metadata": {
          "needs_background": "light"
         },
         "output_type": "display_data"
        }
       ]
      }
     },
     "b1988cfb5e0e4d529fd72692589fed0d": {
      "model_module": "@jupyter-widgets/controls",
      "model_module_version": "1.5.0",
      "model_name": "IntSliderModel",
      "state": {
       "layout": "IPY_MODEL_3cc53170cb6843d2b28f40c6ed854789",
       "max": 10,
       "min": -10,
       "style": "IPY_MODEL_868dc00ae789446582582f2ed4311460"
      }
     },
     "b2f62fab1b454f70aedaca72169c3477": {
      "model_module": "@jupyter-widgets/base",
      "model_module_version": "1.2.0",
      "model_name": "LayoutModel",
      "state": {}
     },
     "b3e6fc24987142e3b2ecef9b5816315c": {
      "model_module": "@jupyter-widgets/base",
      "model_module_version": "1.2.0",
      "model_name": "LayoutModel",
      "state": {}
     },
     "b4ece2878f714e5e8580cae1ce2c3add": {
      "model_module": "@jupyter-widgets/base",
      "model_module_version": "1.2.0",
      "model_name": "LayoutModel",
      "state": {}
     },
     "b51d637786dc452fa7d5cd76d05f3ecb": {
      "model_module": "@jupyter-widgets/base",
      "model_module_version": "1.2.0",
      "model_name": "LayoutModel",
      "state": {}
     },
     "b93d4bcbdbd44c7287154d0a9c353f5f": {
      "model_module": "@jupyter-widgets/controls",
      "model_module_version": "1.5.0",
      "model_name": "SliderStyleModel",
      "state": {
       "description_width": ""
      }
     },
     "ba6c2f87b13942adb8a6e0f65c3dba21": {
      "model_module": "@jupyter-widgets/controls",
      "model_module_version": "1.5.0",
      "model_name": "HBoxModel",
      "state": {
       "children": [
        "IPY_MODEL_609b417093934db488d12dd92affe584",
        "IPY_MODEL_5bcb82ac820a4e6882aac353d6a40171"
       ],
       "layout": "IPY_MODEL_f438a95ff42141e189bbbb18af9eff2a"
      }
     },
     "bd4387825c994326a430262a5288a186": {
      "model_module": "@jupyter-widgets/controls",
      "model_module_version": "1.5.0",
      "model_name": "PlayModel",
      "state": {
       "layout": "IPY_MODEL_41c2720968ef45be9c35a00b0fd6a1af",
       "max": 30,
       "step": 2,
       "style": "IPY_MODEL_723542bbacd64081b16d983235bd2129"
      }
     },
     "bdba7f09778249ca989e61420338bce2": {
      "model_module": "@jupyter-widgets/base",
      "model_module_version": "1.2.0",
      "model_name": "LayoutModel",
      "state": {}
     },
     "be4a445348d54f27954adcd028faeb51": {
      "model_module": "@jupyter-widgets/output",
      "model_module_version": "1.0.0",
      "model_name": "OutputModel",
      "state": {
       "layout": "IPY_MODEL_13b232dca52345eab63f44994bde889b",
       "outputs": [
        {
         "data": {
          "image/png": "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\n",
          "text/plain": "<Figure size 720x480 with 1 Axes>"
         },
         "metadata": {
          "needs_background": "light"
         },
         "output_type": "display_data"
        }
       ]
      }
     },
     "bf9de8c38f5d4eb0be5539ba76459ec7": {
      "model_module": "@jupyter-widgets/controls",
      "model_module_version": "1.5.0",
      "model_name": "DescriptionStyleModel",
      "state": {
       "description_width": ""
      }
     },
     "c1426ca94d7f47eb9a023c1e6816c3f4": {
      "model_module": "@jupyter-widgets/controls",
      "model_module_version": "1.5.0",
      "model_name": "LabelModel",
      "state": {
       "layout": "IPY_MODEL_315dfc69ade846e69f051d2f516c6238",
       "style": "IPY_MODEL_e232a65996e04ad4ba206c7620443ec8",
       "value": "Velocidad Inicial $(m/s)$:"
      }
     },
     "c27084078b9c4059a6f349156ab366c7": {
      "model_module": "@jupyter-widgets/controls",
      "model_module_version": "1.5.0",
      "model_name": "HBoxModel",
      "state": {
       "children": [
        "IPY_MODEL_c985e61fe84a4a00bcc36c81597ade03",
        "IPY_MODEL_c6cb0702507b44d98be13b6af67aea1c"
       ],
       "layout": "IPY_MODEL_4731cc209fb54969be4302ae19f9ebf8"
      }
     },
     "c54c888090be4b9987671288a20419d2": {
      "model_module": "@jupyter-widgets/controls",
      "model_module_version": "1.5.0",
      "model_name": "LabelModel",
      "state": {
       "layout": "IPY_MODEL_6bafc3d58b2f4d66bef7937b9bf68d61",
       "style": "IPY_MODEL_02b4b9f76bd94ed5bce6dd031fe98624",
       "value": "Tiempo $(s)$:"
      }
     },
     "c59be07052e940fdb3f16990d29e9251": {
      "model_module": "@jupyter-widgets/controls",
      "model_module_version": "1.5.0",
      "model_name": "LabelModel",
      "state": {
       "layout": "IPY_MODEL_7ab230240b784e08b87989e2ef064966",
       "style": "IPY_MODEL_47e0fbc21c474be9ab0f581f94f7b16a",
       "value": "Velocidad Inicial $(m/s)$:"
      }
     },
     "c6cb0702507b44d98be13b6af67aea1c": {
      "model_module": "@jupyter-widgets/controls",
      "model_module_version": "1.5.0",
      "model_name": "IntSliderModel",
      "state": {
       "layout": "IPY_MODEL_6dbd3efeca9d4f65a707f0ff1e1dd7d2",
       "max": 10,
       "min": -10,
       "style": "IPY_MODEL_b93d4bcbdbd44c7287154d0a9c353f5f"
      }
     },
     "c862854ac53e4d9eaadc242a669a8d46": {
      "model_module": "@jupyter-widgets/base",
      "model_module_version": "1.2.0",
      "model_name": "LayoutModel",
      "state": {}
     },
     "c8b9044bc8764a7dbf265e1742a5811e": {
      "model_module": "@jupyter-widgets/base",
      "model_module_version": "1.2.0",
      "model_name": "LayoutModel",
      "state": {}
     },
     "c985e61fe84a4a00bcc36c81597ade03": {
      "model_module": "@jupyter-widgets/controls",
      "model_module_version": "1.5.0",
      "model_name": "LabelModel",
      "state": {
       "layout": "IPY_MODEL_8c783f2448ed47f0a30bbe888fa35293",
       "style": "IPY_MODEL_7122235239314361ab6a48a2155d3d69",
       "value": "Posición Inicial $(m)$:"
      }
     },
     "c9b736b751d5443f9937273b70d93ce4": {
      "model_module": "@jupyter-widgets/controls",
      "model_module_version": "1.5.0",
      "model_name": "HBoxModel",
      "state": {
       "children": [
        "IPY_MODEL_c54c888090be4b9987671288a20419d2",
        "IPY_MODEL_9049b5cdeed54b9789f6f2098c64d20c"
       ],
       "layout": "IPY_MODEL_b3e6fc24987142e3b2ecef9b5816315c"
      }
     },
     "cb740e36e59547b7b8300b0a3ae6bc51": {
      "model_module": "@jupyter-widgets/controls",
      "model_module_version": "1.5.0",
      "model_name": "HBoxModel",
      "state": {
       "children": [
        "IPY_MODEL_c1426ca94d7f47eb9a023c1e6816c3f4",
        "IPY_MODEL_5f641c685094493db8b5d0e0754d7f16"
       ],
       "layout": "IPY_MODEL_340835fea2174583816be9e408bd027d"
      }
     },
     "cc59573e5e2a43a7a18dbb1c3289d9c6": {
      "model_module": "@jupyter-widgets/controls",
      "model_module_version": "1.5.0",
      "model_name": "SliderStyleModel",
      "state": {
       "description_width": ""
      }
     },
     "cf895f10c6ba4f77ba89df5add53557d": {
      "model_module": "@jupyter-widgets/controls",
      "model_module_version": "1.5.0",
      "model_name": "HBoxModel",
      "state": {
       "children": [
        "IPY_MODEL_1e40249240a84b339037558a068b2e6c",
        "IPY_MODEL_3547b210435746cf995b0cb590e7c92c"
       ],
       "layout": "IPY_MODEL_c862854ac53e4d9eaadc242a669a8d46"
      }
     },
     "d1ed6ccd76c1486982fe2c8390b4a8e0": {
      "model_module": "@jupyter-widgets/base",
      "model_module_version": "1.2.0",
      "model_name": "LayoutModel",
      "state": {}
     },
     "d2a39c273c5441afb817f472a9467ebc": {
      "model_module": "@jupyter-widgets/base",
      "model_module_version": "1.2.0",
      "model_name": "LayoutModel",
      "state": {}
     },
     "d49ea36f1818456da47da019b5e31f90": {
      "model_module": "@jupyter-widgets/controls",
      "model_module_version": "1.5.0",
      "model_name": "DescriptionStyleModel",
      "state": {
       "description_width": ""
      }
     },
     "d4ae2bc3b5434c6f8c4e0e057a5fff73": {
      "model_module": "@jupyter-widgets/controls",
      "model_module_version": "1.5.0",
      "model_name": "DescriptionStyleModel",
      "state": {
       "description_width": ""
      }
     },
     "defa2a2c277b4b16abe54da44b8db4d7": {
      "model_module": "@jupyter-widgets/controls",
      "model_module_version": "1.5.0",
      "model_name": "DescriptionStyleModel",
      "state": {
       "description_width": ""
      }
     },
     "e09913ff7450423a9d0000017bd717dc": {
      "model_module": "@jupyter-widgets/controls",
      "model_module_version": "1.5.0",
      "model_name": "SliderStyleModel",
      "state": {
       "description_width": ""
      }
     },
     "e1bd620d291f409eb1f9691b6c07044f": {
      "model_module": "@jupyter-widgets/controls",
      "model_module_version": "1.5.0",
      "model_name": "LinkModel",
      "state": {
       "source": [
        "IPY_MODEL_e525784f05ee44fa8d7f7578dd3c6f99",
        "value"
       ],
       "target": [
        "IPY_MODEL_87db6707bc6a49958300637ed89953db",
        "value"
       ]
      }
     },
     "e232a65996e04ad4ba206c7620443ec8": {
      "model_module": "@jupyter-widgets/controls",
      "model_module_version": "1.5.0",
      "model_name": "DescriptionStyleModel",
      "state": {
       "description_width": ""
      }
     },
     "e525784f05ee44fa8d7f7578dd3c6f99": {
      "model_module": "@jupyter-widgets/controls",
      "model_module_version": "1.5.0",
      "model_name": "PlayModel",
      "state": {
       "layout": "IPY_MODEL_7e073211ae0b4a29bc27ddc9f790dd65",
       "max": 30,
       "step": 2,
       "style": "IPY_MODEL_a02d79b74c1247bcad41f8cdc9932c8d"
      }
     },
     "e6596c1d6d9b46e9bb25cfb590cccb8e": {
      "model_module": "@jupyter-widgets/controls",
      "model_module_version": "1.5.0",
      "model_name": "DescriptionStyleModel",
      "state": {
       "description_width": ""
      }
     },
     "e6ba48051ee04aa2ad03882a18813887": {
      "model_module": "@jupyter-widgets/base",
      "model_module_version": "1.2.0",
      "model_name": "LayoutModel",
      "state": {}
     },
     "e8658736a02b41c3adac4861795b039e": {
      "model_module": "@jupyter-widgets/base",
      "model_module_version": "1.2.0",
      "model_name": "LayoutModel",
      "state": {}
     },
     "f0fb406a5d2d49b786fb0230b4cc6ed3": {
      "model_module": "@jupyter-widgets/base",
      "model_module_version": "1.2.0",
      "model_name": "LayoutModel",
      "state": {}
     },
     "f10a92250b8644948551a6de213723a4": {
      "model_module": "@jupyter-widgets/controls",
      "model_module_version": "1.5.0",
      "model_name": "LinkModel",
      "state": {
       "source": [
        "IPY_MODEL_bd4387825c994326a430262a5288a186",
        "value"
       ],
       "target": [
        "IPY_MODEL_9049b5cdeed54b9789f6f2098c64d20c",
        "value"
       ]
      }
     },
     "f3b19c520c9a45e88c2fa82258a765ab": {
      "model_module": "@jupyter-widgets/controls",
      "model_module_version": "1.5.0",
      "model_name": "SliderStyleModel",
      "state": {
       "description_width": ""
      }
     },
     "f438a95ff42141e189bbbb18af9eff2a": {
      "model_module": "@jupyter-widgets/base",
      "model_module_version": "1.2.0",
      "model_name": "LayoutModel",
      "state": {}
     },
     "f5dd0546cf3345dfb2e930ff8621aad8": {
      "model_module": "@jupyter-widgets/controls",
      "model_module_version": "1.5.0",
      "model_name": "HBoxModel",
      "state": {
       "children": [
        "IPY_MODEL_132bde097d4b42bb9cd459755c60fa03",
        "IPY_MODEL_87db6707bc6a49958300637ed89953db"
       ],
       "layout": "IPY_MODEL_8a52b88762a64c32802267a2b214848e"
      }
     },
     "f5e5179326c440588563de7e034b69fd": {
      "model_module": "@jupyter-widgets/controls",
      "model_module_version": "1.5.0",
      "model_name": "LabelModel",
      "state": {
       "layout": "IPY_MODEL_4765a2eee62d4753963f3e2f7920aec5",
       "style": "IPY_MODEL_fe65411fe4ca49a897a57fee26ca72c9",
       "value": "Velocidad Inicial $(m/s)$:"
      }
     },
     "f76a1bca3a664fc6b6d231ebe0458ada": {
      "model_module": "@jupyter-widgets/controls",
      "model_module_version": "1.5.0",
      "model_name": "SliderStyleModel",
      "state": {
       "description_width": ""
      }
     },
     "f775666c15f14a0bb491b66af15fae19": {
      "model_module": "@jupyter-widgets/base",
      "model_module_version": "1.2.0",
      "model_name": "LayoutModel",
      "state": {}
     },
     "f800d790553f4fa0972cd4e43419ed77": {
      "model_module": "@jupyter-widgets/base",
      "model_module_version": "1.2.0",
      "model_name": "LayoutModel",
      "state": {}
     },
     "fba50c38975f4b0a825b4292dc943011": {
      "model_module": "@jupyter-widgets/controls",
      "model_module_version": "1.5.0",
      "model_name": "HBoxModel",
      "state": {
       "children": [
        "IPY_MODEL_3a9832fe9f554c6988bd85a4aa7c5951",
        "IPY_MODEL_308d073b09a54b6a97d81ae4efbe27c8"
       ],
       "layout": "IPY_MODEL_e6ba48051ee04aa2ad03882a18813887"
      }
     },
     "fca7784531d544e79213e6b89651491b": {
      "model_module": "@jupyter-widgets/base",
      "model_module_version": "1.2.0",
      "model_name": "LayoutModel",
      "state": {}
     },
     "fd684755910c47d293bb05addf99ea88": {
      "model_module": "@jupyter-widgets/base",
      "model_module_version": "1.2.0",
      "model_name": "LayoutModel",
      "state": {}
     },
     "fe65411fe4ca49a897a57fee26ca72c9": {
      "model_module": "@jupyter-widgets/controls",
      "model_module_version": "1.5.0",
      "model_name": "DescriptionStyleModel",
      "state": {
       "description_width": ""
      }
     },
     "ff2b97ea37cf400d9070f6920f4a72a8": {
      "model_module": "@jupyter-widgets/controls",
      "model_module_version": "1.5.0",
      "model_name": "HBoxModel",
      "state": {
       "children": [
        "IPY_MODEL_f5e5179326c440588563de7e034b69fd",
        "IPY_MODEL_65a5b840a91c49d29697542b02e5e7fe"
       ],
       "layout": "IPY_MODEL_fca7784531d544e79213e6b89651491b"
      }
     },
     "ffe71078b08542cebfe076d78fa611cc": {
      "model_module": "@jupyter-widgets/base",
      "model_module_version": "1.2.0",
      "model_name": "LayoutModel",
      "state": {}
     }
    },
    "version_major": 2,
    "version_minor": 0
   }
  }
 },
 "nbformat": 4,
 "nbformat_minor": 2
}
