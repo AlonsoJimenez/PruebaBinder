{
 "cells": [
  {
   "cell_type": "code",
   "execution_count": 1,
   "metadata": {
    "scrolled": true
   },
   "outputs": [
    {
     "name": "stderr",
     "output_type": "stream",
     "text": [
      "Enabling notebook extension jupyter-js-widgets/extension...\n",
      "      - Validating: ok\n",
      "Enabling: voila\n",
      "- Writing config: C:\\Users\\tonys\\anaconda3\\etc\\jupyter\n",
      "    - Validating...\n",
      "Error loading server extension voila\n",
      "      X is voila importable?\n"
     ]
    }
   ],
   "source": [
    "from IPython.display import HTML\n",
    "from IPython.display import display\n",
    "\n",
    "# Tomado de https://stackoverflow.com/questions/31517194/how-to-hide-one-specific-cell-input-or-output-in-ipython-notebook\n",
    "tag = HTML('''<script>\n",
    "code_show=false; \n",
    "function code_toggle() {\n",
    "    if (code_show){\n",
    "        $('div.cell.code_cell.rendered.selected div.input').hide();\n",
    "    } else {\n",
    "        $('div.cell.code_cell.rendered.selected div.input').show();\n",
    "    }\n",
    "    code_show = !code_show\n",
    "} \n",
    "\n",
    "$( document ).ready(code_toggle);\n",
    "</script>\n",
    "\n",
    "Para mostrar/ocultar código presione <a href=\"javascript:code_toggle()\">aquí</a>.''')\n",
    "\n",
    "\n",
    "###########################################################################################################################\n",
    "\n",
    "\n",
    "from ipywidgets import interactive\n",
    "import ipywidgets as widgets\n",
    "from IPython.display import display \n",
    "import numpy as np\n",
    "import matplotlib.pyplot as plt\n",
    "\n",
    "\n",
    "def CalculoVelocidad (arregloTiempo, velInicial, aceleración):\n",
    "    velocidad = velInicial + aceleración * arregloTiempo\n",
    "    return velocidad\n",
    "\n",
    "def CalculoPosición (posInicial, arregloTiempo, velInicial, aceleración):\n",
    "    posición = posInicial + velInicial * arregloTiempo + 1/2 * aceleración * arregloTiempo ** 2\n",
    "    return posición\n",
    "\n",
    "\n",
    "def Velocidad():\n",
    "   \n",
    "    display(tag)    \n",
    "   \n",
    "\n",
    "    def GraficoInteractivoVelocidad (velInicial, aceleración,tiempo):\n",
    "\n",
    "      arregloTiempo = np.linspace (0, tiempo, 20)\n",
    "\n",
    "      velocidadActual = CalculoVelocidad (arregloTiempo, velInicial, aceleración)\n",
    "\n",
    "      fig, ax = plt.subplots (dpi=120)\n",
    "\n",
    "      ax.set_xlabel('Tiempo $(s)$')\n",
    "      ax.set_ylabel('Velocidad $(m/s)$')\n",
    "      plt.xlim (0, 35)\n",
    "      plt.ylim (-50, 50)\n",
    "      ax.plot (arregloTiempo, velocidadActual)\n",
    "      ax.set_title('Velocidad de una partícula en una dimensión')\n",
    "\n",
    "      plt.grid ()\n",
    "\n",
    "      plt.show()\n",
    "\n",
    "      return\n",
    "\n",
    "    velEtiqueta = widgets.Label (value=\"Velocidad Inicial $(m/s)$:\")\n",
    "    velSlider = widgets.IntSlider(min=-15.0, max=15.0, step=1.0, value=0.0)\n",
    "    cajaVelocidad = widgets.HBox([velEtiqueta, velSlider])\n",
    "\n",
    "    aceEtiqueta = widgets.Label (value=\"Aceleración $(m/s^2)$:\")\n",
    "    aceSlider = widgets.FloatSlider(min=-1, max=1, step=0.1, value=0)\n",
    "    cajaAceleracion = widgets.HBox([aceEtiqueta, aceSlider])\n",
    "\n",
    "    play = widgets.Play(value=0, min=0, max=30, step=2, disabled=False)\n",
    "    tieEtiqueta = widgets.Label (value=\"Tiempo $(s)$:\")\n",
    "    tieSlider = widgets.IntSlider(min=0, max=30,)\n",
    "    widgets.jslink((play, 'value'), (tieSlider, 'value'))\n",
    "    cajaTiempo = widgets.HBox([tieEtiqueta, tieSlider])\n",
    "\n",
    "    salida = widgets.interactive_output(GraficoInteractivoVelocidad, {'velInicial':velSlider, \n",
    "                                                                  'aceleración':aceSlider,\n",
    "                                                                  'tiempo':tieSlider})\n",
    "\n",
    "    display(cajaVelocidad, cajaAceleracion, cajaTiempo, play, salida)\n",
    "    \n",
    "\n",
    "\n",
    "###########################################################################################################################\n",
    "\n",
    "\n",
    "def Posición():\n",
    "    \n",
    "    display(tag)\n",
    "\n",
    "    def GraficoInteractivoPosición(posInicial, velInicial, aceleración,tiempo):\n",
    "\n",
    "      arregloTiempo = np.linspace (0, tiempo, 20)\n",
    "\n",
    "      posiciónActual = CalculoPosición (posInicial, arregloTiempo, velInicial, aceleración)\n",
    "\n",
    "      fig, ax = plt.subplots (dpi=120)\n",
    "\n",
    "      ax.set_xlabel('Tiempo $(s)$')\n",
    "      ax.set_ylabel('Posición $(m)$')\n",
    "      plt.xlim (0, 35)\n",
    "      plt.ylim (-50, 50)\n",
    "      ax.plot (arregloTiempo, posiciónActual)\n",
    "      ax.set_title('Posición de una partícula en una dimensión')\n",
    "\n",
    "      plt.grid ()\n",
    "\n",
    "      plt.show()\n",
    "\n",
    "      return\n",
    "\n",
    "\n",
    "    posEtiqueta = widgets.Label (value=\"Posición Inicial $(m)$:\")\n",
    "    posSlider = widgets.IntSlider(min=-10.0, max=10.0, step=1.0, value=0.0)\n",
    "    cajaPosición = widgets.HBox([posEtiqueta, posSlider])\n",
    "\n",
    "    velEtiqueta = widgets.Label (value=\"Velocidad Inicial $(m/s)$:\")\n",
    "    velSlider = widgets.FloatSlider(min=-0.1, max=0.1, step=0.01, value=0.0)\n",
    "    cajaVelocidad = widgets.HBox([velEtiqueta, velSlider])\n",
    "\n",
    "    aceEtiqueta = widgets.Label (value=\"Aceleración $(m/s^2)$:\")\n",
    "    aceSlider = widgets.FloatSlider(min=-0.1, max=0.1, step=0.01, value=0)\n",
    "    cajaAceleracion = widgets.HBox([aceEtiqueta, aceSlider])\n",
    "\n",
    "    play = widgets.Play(value=0, min=0, max=30, step=2, disabled=False)\n",
    "    tieEtiqueta = widgets.Label (value=\"Tiempo $(s)$:\")\n",
    "    tieSlider = widgets.IntSlider(min=0, max=30,)\n",
    "    widgets.jslink((play, 'value'), (tieSlider, 'value'))\n",
    "    cajaTiempo = widgets.HBox([tieEtiqueta, tieSlider])\n",
    "\n",
    "    salida = widgets.interactive_output(GraficoInteractivoPosición, {'posInicial':posSlider,\n",
    "                                                                  'velInicial':velSlider,\n",
    "                                                                  'aceleración':aceSlider,\n",
    "                                                                  'tiempo':tieSlider})\n",
    "\n",
    "    display(cajaPosición, cajaVelocidad, cajaAceleracion, cajaTiempo, play, salida)\n",
    "\n",
    "\n",
    "###########################################################################################################################\n",
    "\n",
    "\n",
    "def Aceleración ():\n",
    "    \n",
    "    display(tag)\n",
    "    \n",
    "    def GraficoInteractivoPosición(posInicial, velInicial, aceleración,tiempo):\n",
    "      arregloTiempo = np.linspace (0, tiempo, 20)\n",
    "      aceleraciónActual = np.ones (20) * aceleración    \n",
    "\n",
    "      fig, ax = plt.subplots (dpi=120)\n",
    "\n",
    "      ax.set_xlabel('Tiempo $(s)$')\n",
    "      ax.set_ylabel('Aceleración $(m/s^2)$')\n",
    "      plt.xlim (0, 35)\n",
    "      plt.ylim (-10, 10)\n",
    "      ax.plot (arregloTiempo, aceleraciónActual)\n",
    "      ax.set_title('Aceleración de una partícula en una dimensión')\n",
    "\n",
    "      plt.grid ()\n",
    "\n",
    "      plt.show()\n",
    "\n",
    "      return\n",
    "\n",
    "\n",
    "    posEtiqueta = widgets.Label (value=\"Posición Inicial $(m)$:\")\n",
    "    posSlider = widgets.IntSlider(min=-10.0, max=10.0, step=1.0, value=0.0)\n",
    "    cajaPosición = widgets.HBox([posEtiqueta, posSlider])\n",
    "\n",
    "    velEtiqueta = widgets.Label (value=\"Velocidad Inicial $(m/s)$:\")\n",
    "    velSlider = widgets.IntSlider(min=-50, max=50, step=1, value=0.0)\n",
    "    cajaVelocidad = widgets.HBox([velEtiqueta, velSlider])\n",
    "\n",
    "    aceEtiqueta = widgets.Label (value=\"Aceleración $(m/s^2)$:\")\n",
    "    aceSlider = widgets.IntSlider(min=-5, max=5, step=1, value=0)\n",
    "    cajaAceleracion = widgets.HBox([aceEtiqueta, aceSlider])\n",
    "\n",
    "    play = widgets.Play(value=0, min=0, max=30, step=2, disabled=False)\n",
    "    tieEtiqueta = widgets.Label (value=\"Tiempo $(s)$:\")\n",
    "    tieSlider = widgets.IntSlider(min=0, max=30,)\n",
    "    widgets.jslink((play, 'value'), (tieSlider, 'value'))\n",
    "    cajaTiempo = widgets.HBox([tieEtiqueta, tieSlider])\n",
    "\n",
    "    salida = widgets.interactive_output(GraficoInteractivoPosición, {'posInicial':posSlider,\n",
    "                                                                  'velInicial':velSlider,\n",
    "                                                                  'aceleración':aceSlider,\n",
    "                                                                  'tiempo':tieSlider})\n",
    "\n",
    "    display(cajaPosición, cajaVelocidad, cajaAceleracion, cajaTiempo, play, salida)\n",
    "    \n",
    "    \n",
    "###########################################################################################################################\n",
    "\n",
    "\n",
    "def GraficasVarias ():\n",
    "    \n",
    "    display (tag)\n",
    "    \n",
    "    def GraficoInteractivoGeneral(posInicial, velInicial, aceleración,tiempo):\n",
    "\n",
    "      arregloTiempo = np.linspace (0, tiempo, 20)\n",
    "\n",
    "      posiciónActual = CalculoPosición (posInicial, arregloTiempo, velInicial, aceleración)\n",
    "      velocidadActual = CalculoVelocidad (arregloTiempo, velInicial, aceleración)\n",
    "      aceleraciónActual = np.ones (20) * aceleración\n",
    "\n",
    "      fig, (ax1, ax2, ax3) = plt.subplots (1, 3, figsize = (20,7), dpi= 120, sharex = True)\n",
    "\n",
    "      ax1.set_xlabel('Tiempo $(s)$')\n",
    "      ax1.set_ylabel('Posición $(m)$')\n",
    "      ax1.plot (arregloTiempo, posiciónActual)\n",
    "      ax1.set_xlim([0,35]) \n",
    "      ax1.set_ylim([-50,50])      \n",
    "      ax1.grid ()\n",
    "        \n",
    "      ax2.set_xlabel('Tiempo $(s)$')\n",
    "      ax2.set_ylabel('Velocidad $(m/s)$')\n",
    "      ax2.plot (arregloTiempo, velocidadActual) \n",
    "      ax2.set_xlim([0,35])\n",
    "      ax2.set_ylim([-5,5]) \n",
    "      ax2.grid ()\n",
    "    \n",
    "      ax3.set_xlabel('Tiempo $(s)$')\n",
    "      ax3.set_ylabel('Aceleración $(m/s^2)$')\n",
    "      ax1.set_xlim([0,35])\n",
    "      ax3.set_ylim([-0.2, 0.2]) \n",
    "      ax3.plot (arregloTiempo, aceleraciónActual)        \n",
    "      ax3.grid ()\n",
    "    \n",
    "      plt.show()\n",
    "\n",
    "      return\n",
    "\n",
    "\n",
    "    posEtiqueta = widgets.Label (value=\"Posición Inicial $(m)$:\")\n",
    "    posSlider = widgets.IntSlider(min=-10.0, max=10.0, step=1.0, value=0.0)\n",
    "    cajaPosición = widgets.HBox([posEtiqueta, posSlider])\n",
    "\n",
    "    velEtiqueta = widgets.Label (value=\"Velocidad Inicial $(m/s)$:\")\n",
    "    velSlider = widgets.FloatSlider(min=-0.1, max=0.1, step=0.01, value=0.0)\n",
    "    cajaVelocidad = widgets.HBox([velEtiqueta, velSlider])\n",
    "\n",
    "    aceEtiqueta = widgets.Label (value=\"Aceleración $(m/s^2)$:\")\n",
    "    aceSlider = widgets.FloatSlider(min=-0.1, max=0.1, step=0.01, value=0)\n",
    "    cajaAceleracion = widgets.HBox([aceEtiqueta, aceSlider])\n",
    "\n",
    "    play = widgets.Play(value=0, min=0, max=30, step=2, disabled=False)\n",
    "    tieEtiqueta = widgets.Label (value=\"Tiempo $(s)$:\")\n",
    "    tieSlider = widgets.IntSlider(min=0, max=30,)\n",
    "    widgets.jslink((play, 'value'), (tieSlider, 'value'))\n",
    "    cajaTiempo = widgets.HBox([tieEtiqueta, tieSlider])\n",
    "\n",
    "    salida = widgets.interactive_output(GraficoInteractivoGeneral, {'posInicial':posSlider,\n",
    "                                                                  'velInicial':velSlider,\n",
    "                                                                  'aceleración':aceSlider,\n",
    "                                                                  'tiempo':tieSlider})\n",
    "\n",
    "    display(cajaPosición, cajaVelocidad, cajaAceleracion, cajaTiempo, play, salida)\n",
    "import warnings\n",
    "warnings.filterwarnings('ignore')\n",
    "\n",
    "!jupyter nbextension enable --py widgetsnbextension --sys-prefix\n",
    "!jupyter serverextension enable voila --sys-prefix"
   ]
  },
  {
   "cell_type": "markdown",
   "metadata": {},
   "source": [
    "# Movimiento de una partícula en una dimensión"
   ]
  },
  {
   "cell_type": "markdown",
   "metadata": {},
   "source": [
    "Cuando una partícula presenta movimiento, este puede ser de tipo rectilíneo uniforme (MRU) o también rectilíneo uniforme acelerado (MRUA). Entre las principales ecuaciones se tienen:\n"
   ]
  },
  {
   "cell_type": "markdown",
   "metadata": {},
   "source": [
    "## Movimiento Rectilíneo Uniforme (MRU)"
   ]
  },
  {
   "cell_type": "markdown",
   "metadata": {},
   "source": [
    "La ecuación principal para un movimiento rectilíneo uniforme es igual a:\n",
    "$$\n",
    "v = \\dfrac{d}{t}\n",
    "$$\n",
    "\n",
    "Esta, por medio de operaciones algebraicas, se puede reescribir como:\n",
    "$$\n",
    "t = \\dfrac{d}{v}\n",
    "$$ $$\n",
    "d = vt\n",
    "$$\n"
   ]
  },
  {
   "cell_type": "markdown",
   "metadata": {},
   "source": [
    "Un ejemplo de este tipo de movimiento es el de un ciclista que realiza un recorrido manteniendo su velocidad en el mismo.\n"
   ]
  },
  {
   "attachments": {
    "ciclista.gif": {
     "image/gif": "[encoded data removed]"
    }
   },
   "cell_type": "markdown",
   "metadata": {},
   "source": [
    "![ciclista.gif](attachment:ciclista.gif)"
   ]
  },
  {
   "cell_type": "markdown",
   "metadata": {},
   "source": [
    "## Movimiento Rectilíneo Uniforme Acelerado (MRUA)"
   ]
  },
  {
   "cell_type": "markdown",
   "metadata": {},
   "source": [
    "Cuando la partícula presenta aceleración, las ecuaciones se definen como:\n",
    "$$\n",
    "x = x_0 + vt + \\dfrac{1}{2}at^2\n",
    "$$\n",
    "\n",
    "$$\n",
    "v = v_0 + at\n",
    "$$\n",
    "\n",
    "$$\n",
    "v^2 = v_0^2 + 2a(x-x_0)\n",
    "$$\n"
   ]
  },
  {
   "cell_type": "markdown",
   "metadata": {},
   "source": [
    "Para el caso de los movimientos acelerados, se puede tomar como ejemplo el juego del dinosaurio de Google. El cual al inicio posee una velocidad baja, pero conforme se avanza, este va cada vez más rápido."
   ]
  },
  {
   "cell_type": "markdown",
   "metadata": {},
   "source": [
    "<img src=\"Dino_Google.png\">"
   ]
  },
  {
   "cell_type": "markdown",
   "metadata": {},
   "source": [
    "De igual forma se puede contemplar el caso de caída libre."
   ]
  },
  {
   "cell_type": "markdown",
   "metadata": {},
   "source": []
  },
  {
   "cell_type": "markdown",
   "metadata": {},
   "source": [
    "<img src=\"Caida.png\">"
   ]
  },
  {
   "cell_type": "markdown",
   "metadata": {},
   "source": [
    "Con base a dichas ecuaciones se generan los siguientes gráficos para desplazamiento, velocidad y aceleración en función del tiempo."
   ]
  },
  {
   "cell_type": "code",
   "execution_count": 2,
   "metadata": {
    "scrolled": false
   },
   "outputs": [
    {
     "data": {
      "text/html": [
       "<script>\n",
       "code_show=false; \n",
       "function code_toggle() {\n",
       "    if (code_show){\n",
       "        $('div.cell.code_cell.rendered.selected div.input').hide();\n",
       "    } else {\n",
       "        $('div.cell.code_cell.rendered.selected div.input').show();\n",
       "    }\n",
       "    code_show = !code_show\n",
       "} \n",
       "\n",
       "$( document ).ready(code_toggle);\n",
       "</script>\n",
       "\n",
       "Para mostrar/ocultar código presione <a href=\"javascript:code_toggle()\">aquí</a>."
      ],
      "text/plain": [
       "<IPython.core.display.HTML object>"
      ]
     },
     "metadata": {},
     "output_type": "display_data"
    },
    {
     "data": {
      "application/vnd.jupyter.widget-view+json": {
       "model_id": "d9b828139a1846e58171763a44bf6d55",
       "version_major": 2,
       "version_minor": 0
      },
      "text/plain": [
       "HBox(children=(Label(value='Posición Inicial $(m)$:'), IntSlider(value=0, max=10, min=-10)))"
      ]
     },
     "metadata": {},
     "output_type": "display_data"
    },
    {
     "data": {
      "application/vnd.jupyter.widget-view+json": {
       "model_id": "f53b8bcb43364173ae14fb82feb73e85",
       "version_major": 2,
       "version_minor": 0
      },
      "text/plain": [
       "HBox(children=(Label(value='Velocidad Inicial $(m/s)$:'), FloatSlider(value=0.0, max=0.1, min=-0.1, step=0.01)…"
      ]
     },
     "metadata": {},
     "output_type": "display_data"
    },
    {
     "data": {
      "application/vnd.jupyter.widget-view+json": {
       "model_id": "dedbd48484d145e7913e7aa0d78c6d7d",
       "version_major": 2,
       "version_minor": 0
      },
      "text/plain": [
       "HBox(children=(Label(value='Aceleración $(m/s^2)$:'), FloatSlider(value=0.0, max=0.1, min=-0.1, step=0.01)))"
      ]
     },
     "metadata": {},
     "output_type": "display_data"
    },
    {
     "data": {
      "application/vnd.jupyter.widget-view+json": {
       "model_id": "f406a3c3f3164aa1a92628023e2b5086",
       "version_major": 2,
       "version_minor": 0
      },
      "text/plain": [
       "HBox(children=(Label(value='Tiempo $(s)$:'), IntSlider(value=0, max=30)))"
      ]
     },
     "metadata": {},
     "output_type": "display_data"
    },
    {
     "data": {
      "application/vnd.jupyter.widget-view+json": {
       "model_id": "414c51c7837144698c181cc0724890d1",
       "version_major": 2,
       "version_minor": 0
      },
      "text/plain": [
       "Play(value=0, max=30, step=2)"
      ]
     },
     "metadata": {},
     "output_type": "display_data"
    },
    {
     "data": {
      "application/vnd.jupyter.widget-view+json": {
       "model_id": "196a52a6c63e4c70b988a78aab2c70f9",
       "version_major": 2,
       "version_minor": 0
      },
      "text/plain": [
       "Output()"
      ]
     },
     "metadata": {},
     "output_type": "display_data"
    }
   ],
   "source": [
    "Posición ()"
   ]
  },
  {
   "cell_type": "markdown",
   "metadata": {},
   "source": [
    "Se observa que utlizando la ecuación:\n",
    "$$\n",
    "v = v_0 + at\n",
    "$$\n",
    "La velocidad, tanto para un movimiento acelerado o no, tiene un comportamiento lineal, donde su pendiente depende de la aceleración y la velocidad inicial indica la intersección con el eje y.\n",
    "Para los casos donde se tiene un MRU, la aceleración es 0, por lo que la pendiente es nula y la velocidad se mantendrá constante por todo el recorrido.\n",
    "\n"
   ]
  },
  {
   "cell_type": "code",
   "execution_count": 3,
   "metadata": {
    "scrolled": false
   },
   "outputs": [
    {
     "data": {
      "text/html": [
       "<script>\n",
       "code_show=false; \n",
       "function code_toggle() {\n",
       "    if (code_show){\n",
       "        $('div.cell.code_cell.rendered.selected div.input').hide();\n",
       "    } else {\n",
       "        $('div.cell.code_cell.rendered.selected div.input').show();\n",
       "    }\n",
       "    code_show = !code_show\n",
       "} \n",
       "\n",
       "$( document ).ready(code_toggle);\n",
       "</script>\n",
       "\n",
       "Para mostrar/ocultar código presione <a href=\"javascript:code_toggle()\">aquí</a>."
      ],
      "text/plain": [
       "<IPython.core.display.HTML object>"
      ]
     },
     "metadata": {},
     "output_type": "display_data"
    },
    {
     "data": {
      "application/vnd.jupyter.widget-view+json": {
       "model_id": "58440b826cc84fc394764dde5b89cc96",
       "version_major": 2,
       "version_minor": 0
      },
      "text/plain": [
       "HBox(children=(Label(value='Velocidad Inicial $(m/s)$:'), IntSlider(value=0, max=15, min=-15)))"
      ]
     },
     "metadata": {},
     "output_type": "display_data"
    },
    {
     "data": {
      "application/vnd.jupyter.widget-view+json": {
       "model_id": "81e4121488324bf6a614ee6db69a17c8",
       "version_major": 2,
       "version_minor": 0
      },
      "text/plain": [
       "HBox(children=(Label(value='Aceleración $(m/s^2)$:'), FloatSlider(value=0.0, max=1.0, min=-1.0)))"
      ]
     },
     "metadata": {},
     "output_type": "display_data"
    },
    {
     "data": {
      "application/vnd.jupyter.widget-view+json": {
       "model_id": "23cc05f6dec4492cb09771866b704679",
       "version_major": 2,
       "version_minor": 0
      },
      "text/plain": [
       "HBox(children=(Label(value='Tiempo $(s)$:'), IntSlider(value=0, max=30)))"
      ]
     },
     "metadata": {},
     "output_type": "display_data"
    },
    {
     "data": {
      "application/vnd.jupyter.widget-view+json": {
       "model_id": "abcc162cd349496cbd64ffb8c3ec7b86",
       "version_major": 2,
       "version_minor": 0
      },
      "text/plain": [
       "Play(value=0, max=30, step=2)"
      ]
     },
     "metadata": {},
     "output_type": "display_data"
    },
    {
     "data": {
      "application/vnd.jupyter.widget-view+json": {
       "model_id": "d34a9c3a4d244b3989e217f0afb6f126",
       "version_major": 2,
       "version_minor": 0
      },
      "text/plain": [
       "Output()"
      ]
     },
     "metadata": {},
     "output_type": "display_data"
    }
   ],
   "source": [
    "Velocidad ()"
   ]
  },
  {
   "cell_type": "markdown",
   "metadata": {},
   "source": [
    "Para el caso del desplazamiento, se puede utilizar la ecuación:\n",
    "$$\n",
    "x = x_0 + vt + \\dfrac{1}{2}at^2\n",
    "$$\n",
    "La cual tiene la forma de una ecuación cuadrática.\n",
    "Se puede observar que con base a la ecuación anterior, la aceleración es el coeficiente cuadrático o la constante \"a\" en la expresión general. La velocidad es por su parte el coeficiente lineal o la constante \"b\". Finalmente, la posición incial es el coficiente independiente o la constante \"c\".\n"
   ]
  },
  {
   "cell_type": "code",
   "execution_count": 4,
   "metadata": {},
   "outputs": [
    {
     "data": {
      "text/html": [
       "<script>\n",
       "code_show=false; \n",
       "function code_toggle() {\n",
       "    if (code_show){\n",
       "        $('div.cell.code_cell.rendered.selected div.input').hide();\n",
       "    } else {\n",
       "        $('div.cell.code_cell.rendered.selected div.input').show();\n",
       "    }\n",
       "    code_show = !code_show\n",
       "} \n",
       "\n",
       "$( document ).ready(code_toggle);\n",
       "</script>\n",
       "\n",
       "Para mostrar/ocultar código presione <a href=\"javascript:code_toggle()\">aquí</a>."
      ],
      "text/plain": [
       "<IPython.core.display.HTML object>"
      ]
     },
     "metadata": {},
     "output_type": "display_data"
    },
    {
     "data": {
      "application/vnd.jupyter.widget-view+json": {
       "model_id": "7e1fede41c0b48e9b50119dc9a9aea0d",
       "version_major": 2,
       "version_minor": 0
      },
      "text/plain": [
       "HBox(children=(Label(value='Posición Inicial $(m)$:'), IntSlider(value=0, max=10, min=-10)))"
      ]
     },
     "metadata": {},
     "output_type": "display_data"
    },
    {
     "data": {
      "application/vnd.jupyter.widget-view+json": {
       "model_id": "f2d05868d7f24a25ae8b06014ea6e56e",
       "version_major": 2,
       "version_minor": 0
      },
      "text/plain": [
       "HBox(children=(Label(value='Velocidad Inicial $(m/s)$:'), IntSlider(value=0, max=50, min=-50)))"
      ]
     },
     "metadata": {},
     "output_type": "display_data"
    },
    {
     "data": {
      "application/vnd.jupyter.widget-view+json": {
       "model_id": "46dcea5f4fe34031a7362cefb2134cbe",
       "version_major": 2,
       "version_minor": 0
      },
      "text/plain": [
       "HBox(children=(Label(value='Aceleración $(m/s^2)$:'), IntSlider(value=0, max=5, min=-5)))"
      ]
     },
     "metadata": {},
     "output_type": "display_data"
    },
    {
     "data": {
      "application/vnd.jupyter.widget-view+json": {
       "model_id": "eeeda25886b547709505ae11d18a6ed1",
       "version_major": 2,
       "version_minor": 0
      },
      "text/plain": [
       "HBox(children=(Label(value='Tiempo $(s)$:'), IntSlider(value=0, max=30)))"
      ]
     },
     "metadata": {},
     "output_type": "display_data"
    },
    {
     "data": {
      "application/vnd.jupyter.widget-view+json": {
       "model_id": "3feff1c685314051802cda7f6c523694",
       "version_major": 2,
       "version_minor": 0
      },
      "text/plain": [
       "Play(value=0, max=30, step=2)"
      ]
     },
     "metadata": {},
     "output_type": "display_data"
    },
    {
     "data": {
      "application/vnd.jupyter.widget-view+json": {
       "model_id": "fe260cce8dc84f0998dd0ff64f4fd9d2",
       "version_major": 2,
       "version_minor": 0
      },
      "text/plain": [
       "Output()"
      ]
     },
     "metadata": {},
     "output_type": "display_data"
    }
   ],
   "source": [
    "Aceleración ()"
   ]
  },
  {
   "cell_type": "markdown",
   "metadata": {},
   "source": [
    "Finalmente al graficar la aceleración en el recorrido, se observa que esta es independiente de la posición y la velocidad inicial. Esta mantiene un comportamiento constante durante cada instante del movimiento, debido a que se está trabajando con problemas de aceleración constante. "
   ]
  },
  {
   "cell_type": "code",
   "execution_count": 5,
   "metadata": {},
   "outputs": [
    {
     "data": {
      "text/html": [
       "<script>\n",
       "code_show=false; \n",
       "function code_toggle() {\n",
       "    if (code_show){\n",
       "        $('div.cell.code_cell.rendered.selected div.input').hide();\n",
       "    } else {\n",
       "        $('div.cell.code_cell.rendered.selected div.input').show();\n",
       "    }\n",
       "    code_show = !code_show\n",
       "} \n",
       "\n",
       "$( document ).ready(code_toggle);\n",
       "</script>\n",
       "\n",
       "Para mostrar/ocultar código presione <a href=\"javascript:code_toggle()\">aquí</a>."
      ],
      "text/plain": [
       "<IPython.core.display.HTML object>"
      ]
     },
     "metadata": {},
     "output_type": "display_data"
    },
    {
     "data": {
      "application/vnd.jupyter.widget-view+json": {
       "model_id": "8b94c4c53f674c03a6cf080f76c326f8",
       "version_major": 2,
       "version_minor": 0
      },
      "text/plain": [
       "HBox(children=(Label(value='Posición Inicial $(m)$:'), IntSlider(value=0, max=10, min=-10)))"
      ]
     },
     "metadata": {},
     "output_type": "display_data"
    },
    {
     "data": {
      "application/vnd.jupyter.widget-view+json": {
       "model_id": "4c3910b7eade4757b5c1504b32cb7955",
       "version_major": 2,
       "version_minor": 0
      },
      "text/plain": [
       "HBox(children=(Label(value='Velocidad Inicial $(m/s)$:'), FloatSlider(value=0.0, max=0.1, min=-0.1, step=0.01)…"
      ]
     },
     "metadata": {},
     "output_type": "display_data"
    },
    {
     "data": {
      "application/vnd.jupyter.widget-view+json": {
       "model_id": "118d390fada64eaab2ffbb7dba041aa6",
       "version_major": 2,
       "version_minor": 0
      },
      "text/plain": [
       "HBox(children=(Label(value='Aceleración $(m/s^2)$:'), FloatSlider(value=0.0, max=0.1, min=-0.1, step=0.01)))"
      ]
     },
     "metadata": {},
     "output_type": "display_data"
    },
    {
     "data": {
      "application/vnd.jupyter.widget-view+json": {
       "model_id": "46e7f92584be45e0940e80fb717e9521",
       "version_major": 2,
       "version_minor": 0
      },
      "text/plain": [
       "HBox(children=(Label(value='Tiempo $(s)$:'), IntSlider(value=0, max=30)))"
      ]
     },
     "metadata": {},
     "output_type": "display_data"
    },
    {
     "data": {
      "application/vnd.jupyter.widget-view+json": {
       "model_id": "0994c3a8e05944f381e782571f93632e",
       "version_major": 2,
       "version_minor": 0
      },
      "text/plain": [
       "Play(value=0, max=30, step=2)"
      ]
     },
     "metadata": {},
     "output_type": "display_data"
    },
    {
     "data": {
      "application/vnd.jupyter.widget-view+json": {
       "model_id": "6d20efcb99f84d93a3a41746be4ef092",
       "version_major": 2,
       "version_minor": 0
      },
      "text/plain": [
       "Output()"
      ]
     },
     "metadata": {},
     "output_type": "display_data"
    }
   ],
   "source": [
    "GraficasVarias ()"
   ]
  },
  {
   "cell_type": "code",
   "execution_count": null,
   "metadata": {},
   "outputs": [],
   "source": []
  }
 ],
 "metadata": {
  "kernelspec": {
   "display_name": "Python 3",
   "language": "python",
   "name": "python3"
  },
  "language_info": {
   "codemirror_mode": {
    "name": "ipython",
    "version": 3
   },
   "file_extension": ".py",
   "mimetype": "text/x-python",
   "name": "python",
   "nbconvert_exporter": "python",
   "pygments_lexer": "ipython3",
   "version": "3.8.8"
  }
 },
 "nbformat": 4,
 "nbformat_minor": 2
}
