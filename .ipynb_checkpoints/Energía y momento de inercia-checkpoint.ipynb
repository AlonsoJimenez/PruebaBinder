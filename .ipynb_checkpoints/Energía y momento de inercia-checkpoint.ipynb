{
 "cells": [
  {
   "cell_type": "code",
   "execution_count": null,
   "id": "652f55d1",
   "metadata": {},
   "outputs": [],
   "source": [
    "from matplotlib import container\n",
    "from numpy.lib import info\n",
    "from IPython.display import HTML\n",
    "from IPython.display import display\n",
    "import matplotlib.image as mpimg\n",
    "from ipywidgets import interactive\n",
    "import ipywidgets as widgets\n",
    "import scipy.misc\n",
    "from scipy import ndimage\n",
    "import numpy as np\n",
    "import math\n",
    "import matplotlib.pyplot as plt\n",
    "import matplotlib.patches as patches\n",
    "import matplotlib.image as img\n",
    "from matplotlib.offsetbox import  AnnotationBbox, OffsetImage\n",
    "\n",
    "imagenRueda = plt.imread('rueda.png')\n",
    "imagenArreglo = np.array(imagenRueda)\n",
    "\n",
    "def calculoEnergia(radio, velocidad, masa):\n",
    "    return masa*radio**2*velocidad**2/2\n",
    "\n",
    "def calculoMomentoE(masa, radio):\n",
    "    return masa*(radio**2)\n",
    "\n",
    "def calculoMomento(eje, masa):\n",
    "    momCentro = calculoMomentoE(masa, 1)\n",
    "    return momCentro + masa * eje**2\n",
    "\n",
    "def calculoEnergiaEjes(momento, velocidad):\n",
    "    return momento*velocidad**2/2\n",
    "\n",
    "def calculoPosicionCentro(eje, angulo):\n",
    "    posicionX = -(eje)*math.cos(angulo)+eje\n",
    "    posicionY = -(eje)*math.sin(angulo)\n",
    "    return [posicionX, posicionY]\n",
    " \n",
    "\n",
    "\n",
    "tag = HTML('''<script>\n",
    "code_show=false; \n",
    "function code_toggle() {\n",
    "    if (code_show){\n",
    "        $('div.cell.code_cell.rendered.selected div.input').hide();\n",
    "    } else {\n",
    "        $('div.cell.code_cell.rendered.selected div.input').show();\n",
    "    }\n",
    "    code_show = !code_show\n",
    "} \n",
    "\n",
    "$( document ).ready(code_toggle);\n",
    "</script>\n",
    "\n",
    "Para mostrar/ocultar código presione <a href=\"javascript:code_toggle()\">aquí</a>.''')\n",
    "\n",
    "\n",
    "\n",
    "def graficoEnergia():\n",
    "\n",
    "    #display (tag)\n",
    "\n",
    "    def GraficoInteractivoGeneral(masa, radio, velocidad, tiempo):\n",
    "\n",
    "      energia = calculoEnergia(radio, velocidad, masa)\n",
    "      momento = calculoMomentoE(masa, radio)\n",
    "\n",
    "      fig,(ax1, ax2, ax3) = plt.subplots (1, 3, figsize = (20,7), dpi= 120, sharex = True)\n",
    "\n",
    "      ax1.set_title('Rueda girando a '+str(velocidad) + ' $rad/s$')\n",
    "      rotatedImage = ndimage.rotate(imagenArreglo, velocidad*tiempo*180/math.pi)\n",
    "      imagebox = OffsetImage(rotatedImage, zoom=0.2)\n",
    "      ab = AnnotationBbox(imagebox, (0, 0),bboxprops={'edgecolor':'none','alpha':0.1})\n",
    "      ax1.add_artist(ab)\n",
    "      plt.draw()\n",
    "      ax1.set_ylim(-0.5, 0.5)  \n",
    "      ax2.set_xlim(-0.5, 0.5)\n",
    "      \n",
    "      ax2.set_title('Energía del sistema $(J)$ = '+str(energia))\n",
    "      ax2.bar(['Valores del problema'], [energia])\n",
    "      ax2.set_ylim([0, 3]) \n",
    "\n",
    "      ax3.set_title('Momento de Inercia: '+str(momento)+' $(kg*m^2)$')\n",
    "      ax3.bar(['Valores del problema'], [momento])\n",
    "      ax3.set_ylim([0, 3]) \n",
    "\n",
    "      plt.show()\n",
    "\n",
    "      return \n",
    "         \n",
    "\n",
    "    velocidadAngEtiqueta = widgets.Label (value=\"Velocidad angular $(rad/s)$:\")\n",
    "    velocidadAngSlider = widgets.FloatSlider(min=0.1, max=3, step=0.1, value=2.0)\n",
    "\n",
    "    masaEtiqueta = widgets.Label (value=\"Masa del disco $(kg)$:\")\n",
    "    masaSlider = widgets.FloatSlider(min=0.5, max=3, step=0.1, value=2.0)\n",
    "\n",
    "    radioEtiqueta = widgets.Label (value=\"Radio de giro $(m)$:\")\n",
    "    radioSlider = widgets.FloatSlider(min=0.1, max=2, step=0.1, value=0.1)\n",
    "\n",
    "    cajaVelocidad = widgets.HBox([velocidadAngEtiqueta, velocidadAngSlider])\n",
    "    cajaMasa = widgets.HBox([masaEtiqueta, masaSlider])\n",
    "    cajaradio = widgets.HBox([radioEtiqueta, radioSlider])\n",
    "\n",
    "    play = widgets.Play(value=0, min=0, max=60, step=0.1, disabled=False)\n",
    "    tieEtiqueta = widgets.Label (value=\"Tiempo $(s)$:\")\n",
    "    tieSlider = widgets.FloatSlider(min=0, max=60,)\n",
    "    widgets.jslink((play, 'value'), (tieSlider, 'value'))\n",
    "    cajaTiempo = widgets.HBox([tieEtiqueta, tieSlider])\n",
    "\n",
    "    salida = widgets.interactive_output(GraficoInteractivoGeneral, {'masa': masaSlider, 'radio': radioSlider, 'velocidad': velocidadAngSlider, 'tiempo': tieSlider })\n",
    "\n",
    "    display(cajaMasa, cajaradio, cajaVelocidad, cajaTiempo, play, salida) \n",
    "\n",
    "    \n",
    "def graficoEjes():\n",
    "\n",
    "    #display (tag)\n",
    "\n",
    "    def mostrarGrafico(masa, eje, velocidad, tiempo):\n",
    "\n",
    "      pos = calculoPosicionCentro(eje, velocidad*tiempo)\n",
    "      mom = calculoMomento(eje, masa)\n",
    "      ene = calculoEnergiaEjes(mom, velocidad)\n",
    "\n",
    "      fig,(ax1, ax2, ax3) = plt.subplots (1, 3, figsize = (20,7), dpi= 120, sharex = True)\n",
    "\n",
    "      ax1.set_title('Disco solido girando a '+str(velocidad) + ' $rad/s$')\n",
    "      ax1.add_patch(\n",
    "           plt.Circle(pos, 1, color='c') )\n",
    "      ax1.set_ylim(-2.5, 2.5)  \n",
    "      ax2.set_xlim(-2.5, 2.5)\n",
    "      \n",
    "      ax2.set_title('Energía del sistema $(J)$ = '+str(ene))\n",
    "      ax2.bar(['Valores del problema'], [ene])\n",
    "      ax2.set_ylim([0, 8]) \n",
    "\n",
    "      ax3.set_title('Momento de Inercia: '+str(mom)+' $(kg*m^2)$')\n",
    "      ax3.bar(['Valores del problema'], [mom])\n",
    "      ax3.set_ylim([0, 8]) \n",
    "\n",
    "      plt.show()\n",
    "\n",
    "      return \n",
    "         \n",
    "\n",
    "    velocidadAngEtiqueta = widgets.Label (value=\"Velocidad angular $(rad/s)$:\")\n",
    "    velocidadAngSlider = widgets.FloatSlider(min=0.1, max=3, step=0.1, value=2.0)\n",
    "\n",
    "    masaEtiqueta = widgets.Label (value=\"Masa del disco $(kg)$:\")\n",
    "    masaSlider = widgets.FloatSlider(min=0.5, max=3, step=0.1, value=2.0)\n",
    "\n",
    "    ejeEtiqueta = widgets.Label (value=\"Distancia eje $(m)$:\")\n",
    "    ejeSlider = widgets.FloatSlider(min=-1, max=1, step=0.1, value=0)\n",
    "\n",
    "    cajaVelocidad = widgets.HBox([velocidadAngEtiqueta, velocidadAngSlider])\n",
    "    cajaMasa = widgets.HBox([masaEtiqueta, masaSlider])\n",
    "    cajaEje = widgets.HBox([ejeEtiqueta, ejeSlider])\n",
    "\n",
    "    play = widgets.Play(value=0, min=0, max=60, step=0.1, disabled=False)\n",
    "    tieEtiqueta = widgets.Label (value=\"Tiempo $(s)$:\")\n",
    "    tieSlider = widgets.FloatSlider(min=0, max=60,)\n",
    "    widgets.jslink((play, 'value'), (tieSlider, 'value'))\n",
    "    cajaTiempo = widgets.HBox([tieEtiqueta, tieSlider])\n",
    "\n",
    "    salida = widgets.interactive_output(mostrarGrafico, {'masa': masaSlider, 'eje': ejeSlider, 'velocidad': velocidadAngSlider, 'tiempo': tieSlider })\n",
    "\n",
    "    display(cajaMasa, cajaEje, cajaVelocidad, cajaTiempo, play, salida)    "
   ]
  },
  {
   "cell_type": "markdown",
   "id": "1417d0d8",
   "metadata": {},
   "source": [
    "# Energía y momento de inercia"
   ]
  },
  {
   "cell_type": "markdown",
   "id": "23635b7b",
   "metadata": {},
   "source": [
    "En el caso de la energía cinética de un cuerpo en rotación tomamos una partícula en rotación y le calculamos su energía cinética de la siguiente forma.\n",
    "\n",
    "$$\n",
    "K=\\dfrac{mr^2\\omega^2}{2}\n",
    "$$\n",
    "\n",
    "En el caso de un objeto compuesto como es el caso más general en la física vamos a tener:\n",
    "\n",
    "$$\n",
    "\\dfrac{1}{2}\\sum{(m_ir_i^2)}\\omega^2 \n",
    "$$\n",
    "\n",
    "Este valor dentro del paréntesis le llamaremos momento de inercia por lo que al igual que definimos la energía cinética de un cuerpo por su masa y velocidad. En rotación será momento de inercia y velocidad angular.\n",
    "Notamos que el momento de inercia nos da una resistencia a la rotación de la misma manera que la masa le da a la velocidad lineal.\n",
    "\n",
    "Entonces:\n",
    "\n",
    "$$\n",
    "K=\\dfrac{1}{2}I\\omega^2\n",
    "$$\n",
    "\n",
    "Para dar una introducción en el siguiente ejemplo se dara el ejemplo más sencillo de un cuerpo compuesto, un aro. Donde las partículas unidas giran a través de un radio definido, poseen una masa unidorme y velocidad constante."
   ]
  },
  {
   "cell_type": "code",
   "execution_count": 1,
   "id": "5b960886",
   "metadata": {},
   "outputs": [
    {
     "ename": "NameError",
     "evalue": "name 'graficoEnergia' is not defined",
     "output_type": "error",
     "traceback": [
      "\u001b[1;31m---------------------------------------------------------------------------\u001b[0m",
      "\u001b[1;31mNameError\u001b[0m                                 Traceback (most recent call last)",
      "\u001b[1;32m<ipython-input-1-ab60f9bbc701>\u001b[0m in \u001b[0;36m<module>\u001b[1;34m\u001b[0m\n\u001b[1;32m----> 1\u001b[1;33m \u001b[0mgraficoEnergia\u001b[0m\u001b[1;33m(\u001b[0m\u001b[1;33m)\u001b[0m\u001b[1;33m\u001b[0m\u001b[1;33m\u001b[0m\u001b[0m\n\u001b[0m",
      "\u001b[1;31mNameError\u001b[0m: name 'graficoEnergia' is not defined"
     ]
    }
   ],
   "source": [
    "graficoEnergia()"
   ]
  },
  {
   "cell_type": "markdown",
   "id": "a7dd17c7",
   "metadata": {},
   "source": [
    "Es importante notar que para distintas formas existen distintos momentos de inercia para distintas formas geometricas. Estas se pueden averiguar a traves de la ecuacion diferencial:\n",
    "\n",
    "$$\n",
    "I=\\rho\\int r^2 \\,dV\n",
    "$$\n",
    "\n",
    "Sin embargo para formas con distribución de masa uniforme y homogeneo existen formulas ya existentes dependientes de las variables de la forma y su masa como se muestra en la siguiente imagen obtenida del libro Sears. Todos estos centros de masa son del centro geométrico.\n",
    "\n",
    "![SegmentLocal](Inercia.jpg)\n",
    "\n",
    "Tambien es importante mencionar que en ciertos casos es posible evitar la ecuación diferencial para encontrar el momento de inercia. Esto cuando sabemos el momento de inercia en el centro y deseamos encontar el mismo en un eje paralelo al mismo. Dicha ecuación para encontrar el momento de inercia deseado es llamado el teorema de los ejes paralelo:\n",
    "\n",
    "$$\n",
    "I_P=I_{cm}+MD^2\n",
    "$$"
   ]
  },
  {
   "cell_type": "markdown",
   "id": "f078b510",
   "metadata": {},
   "source": [
    "En el siguiente ejemplo interactivo se ve un disco solido que gira respecto a un eje a través del centro cambia su energía y momento de inercia cuando se gira a velocidad constante. Esto respecto a distintos puntos, en esta se utiliza el teorema de ejes paralelos junto a la formula del Sears mostrada arriba."
   ]
  },
  {
   "cell_type": "code",
   "execution_count": 3,
   "id": "6a11c786",
   "metadata": {},
   "outputs": [
    {
     "data": {
      "application/vnd.jupyter.widget-view+json": {
       "model_id": "0058cc54c66547fb8ce9123e5af1d07d",
       "version_major": 2,
       "version_minor": 0
      },
      "text/plain": [
       "HBox(children=(Label(value='Masa del disco $(kg)$:'), FloatSlider(value=2.0, max=3.0, min=0.5)))"
      ]
     },
     "metadata": {},
     "output_type": "display_data"
    },
    {
     "data": {
      "application/vnd.jupyter.widget-view+json": {
       "model_id": "fd1ca22bec30400cb105076a0d312eb0",
       "version_major": 2,
       "version_minor": 0
      },
      "text/plain": [
       "HBox(children=(Label(value='Distancia eje $(m)$:'), FloatSlider(value=0.0, max=1.0, min=-1.0)))"
      ]
     },
     "metadata": {},
     "output_type": "display_data"
    },
    {
     "data": {
      "application/vnd.jupyter.widget-view+json": {
       "model_id": "fdbd8da7259d4317bb03c503156bbf1c",
       "version_major": 2,
       "version_minor": 0
      },
      "text/plain": [
       "HBox(children=(Label(value='Velocidad angular $(rad/s)$:'), FloatSlider(value=2.0, max=3.0, min=0.1)))"
      ]
     },
     "metadata": {},
     "output_type": "display_data"
    },
    {
     "data": {
      "application/vnd.jupyter.widget-view+json": {
       "model_id": "ab179b68c7b146ceb1af643b3b53146d",
       "version_major": 2,
       "version_minor": 0
      },
      "text/plain": [
       "HBox(children=(Label(value='Tiempo $(s)$:'), FloatSlider(value=0.0, max=60.0)))"
      ]
     },
     "metadata": {},
     "output_type": "display_data"
    },
    {
     "data": {
      "application/vnd.jupyter.widget-view+json": {
       "model_id": "dfb70b4f222549b5b926fa1ed108f549",
       "version_major": 2,
       "version_minor": 0
      },
      "text/plain": [
       "Play(value=0, max=60, step=0)"
      ]
     },
     "metadata": {},
     "output_type": "display_data"
    },
    {
     "data": {
      "application/vnd.jupyter.widget-view+json": {
       "model_id": "f5b5e8898d8d414dba13b3a68101160c",
       "version_major": 2,
       "version_minor": 0
      },
      "text/plain": [
       "Output()"
      ]
     },
     "metadata": {},
     "output_type": "display_data"
    }
   ],
   "source": [
    "graficoEjes()"
   ]
  },
  {
   "cell_type": "code",
   "execution_count": null,
   "id": "54b0061a",
   "metadata": {},
   "outputs": [],
   "source": []
  }
 ],
 "metadata": {
  "kernelspec": {
   "display_name": "Python 3",
   "language": "python",
   "name": "python3"
  },
  "language_info": {
   "codemirror_mode": {
    "name": "ipython",
    "version": 3
   },
   "file_extension": ".py",
   "mimetype": "text/x-python",
   "name": "python",
   "nbconvert_exporter": "python",
   "pygments_lexer": "ipython3",
   "version": "3.8.8"
  }
 },
 "nbformat": 4,
 "nbformat_minor": 5
}
