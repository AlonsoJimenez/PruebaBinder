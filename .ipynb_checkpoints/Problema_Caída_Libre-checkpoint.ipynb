{
 "cells": [
  {
   "cell_type": "markdown",
   "metadata": {},
   "source": [
    "# Movimiento con Aceleración Constante"
   ]
  },
  {
   "cell_type": "code",
   "execution_count": 2,
   "metadata": {},
   "outputs": [],
   "source": [
    "from IPython.display import HTML\n",
    "from IPython.display import display\n",
    "\n",
    "# Tomado de https://stackoverflow.com/questions/31517194/how-to-hide-one-specific-cell-input-or-output-in-ipython-notebook\n",
    "tag = HTML('''<script>\n",
    "code_show=false; \n",
    "function code_toggle() {\n",
    "    if (code_show){\n",
    "        $('div.cell.code_cell.rendered.selected div.input').hide();\n",
    "    } else {\n",
    "        $('div.cell.code_cell.rendered.selected div.input').show();\n",
    "    }\n",
    "    code_show = !code_show\n",
    "} \n",
    "\n",
    "$( document ).ready(code_toggle);\n",
    "</script>\n",
    "\n",
    "Para mostrar/ocultar código presione <a href=\"javascript:code_toggle()\">aquí</a>.''')\n",
    "\n",
    "\n",
    "\n",
    "###########################################################################################################################\n",
    "\n",
    "\n",
    "from matplotlib import animation\n",
    "import numpy as np\n",
    "import matplotlib.pyplot as plt\n",
    "import ipywidgets as widgets\n",
    "from IPython.display import display \n",
    "from ipywidgets import interactive\n",
    "\n",
    "\n",
    "\n",
    "g  = -9.81\n",
    "v = 5\n",
    "h = 40\n",
    "\n",
    "def posicion(t):\n",
    "    #Ecuacuion de movimiento con aceleracion constante\n",
    "    global g\n",
    "    global v\n",
    "    global h\n",
    "    t = float(t - tiempoAdicional(v, h))\n",
    "    y = v*t + (g/2)*t**2\n",
    "    return y\n",
    "\n",
    "def velocidad(t):\n",
    "    global g\n",
    "    global v\n",
    "    global h\n",
    "    t = float(t-tiempoAdicional(v, h))\n",
    "    velocidad = v + g*t\n",
    "    return velocidad\n",
    "\n",
    "def tiempoAdicional(v, h):\n",
    "    return h/v\n",
    "\n",
    "t1 = 0.25 + tiempoAdicional(v, h)\n",
    "\n",
    "t2 = 1 + tiempoAdicional(v, h)\n",
    "\n",
    "t3 = 8 + tiempoAdicional(v, h)\n",
    "\n",
    "deltaT = 0.05\n",
    "\n",
    "def Inciso_A ():\n",
    "    \n",
    "    display (tag)\n",
    "\n",
    "    def arregloPosicionesVelocidades(t):\n",
    "        global v\n",
    "        t = float(t)\n",
    "        mru = v*t\n",
    "        if(mru <= 40):  \n",
    "            return [mru, 5]\n",
    "        elif(mru >= 0):\n",
    "            return [40 + posicion(t), velocidad(t)]\n",
    "        else:\n",
    "            return [0,0.3]\n",
    "\n",
    "    tiempos1 = np.arange(0, t1+deltaT, deltaT)\n",
    "    tiempos2 = np.arange(0, t2+deltaT, deltaT)\n",
    "    tiempos3 = np.arange(0, t3+deltaT, deltaT)\n",
    "\n",
    "    pos1 = widgets.Label (value=\"La posicion en $t_1$ es de: \"\n",
    "                                 + str(round(arregloPosicionesVelocidades(t1)[0],3))+ \"$m$ sobre el suelo\")\n",
    "\n",
    "    vel1 = widgets.Label (value=\"La velocidad en $t_1$ es de: \"\n",
    "                                 + str(round(arregloPosicionesVelocidades(t1)[1],3))+ \"$m/s$ sobre el suelo\")\n",
    "\n",
    "    pos2 = widgets.Label (value=\"La posicion en $t_2$ es de: \"\n",
    "                                 + str(round(arregloPosicionesVelocidades(t2)[0],3))+ \"$m$ sobre el suelo\")\n",
    "\n",
    "    vel2 = widgets.Label (value=\"La velocidad en $t_2$ es de: \"\n",
    "                                 + str(round(arregloPosicionesVelocidades(t2)[1],3))+ \"$m/s$ sobre el suelo\")\n",
    "\n",
    "    display (pos1, vel1, pos2, vel2)\n",
    "    \n",
    "    \n",
    "###########################################################################################################################\n",
    "\n",
    "\n",
    "def Inciso_B ():\n",
    "    \n",
    "    display (tag)\n",
    "    \n",
    "    import math\n",
    "\n",
    "\n",
    "    discriminante = v**2 - 4 *  1/2 * g * h\n",
    "\n",
    "\n",
    "    x1 = (-v + math.sqrt (discriminante)) / (2 * 1/2 * g)\n",
    "\n",
    "    x2 = (-v - math.sqrt (discriminante)) / (2 * 1/2 * g)\n",
    "\n",
    "    sol1 = widgets.Label (value=\"Una solución para t es: \"\n",
    "                                 + str(round(x1,3))+ \"$s$\")\n",
    "\n",
    "    sol2 = widgets.Label (value=\"Una solución para t es: \"\n",
    "                                 + str(round(x2,3))+ \"$s$ \")\n",
    "\n",
    "    display (sol1, sol2)\n",
    "    \n",
    "    return discriminante, x2\n",
    "     \n",
    "          \n",
    "\n",
    "###########################################################################################################################\n",
    "\n",
    "\n",
    "def Inciso_C (tiempo):\n",
    "    \n",
    "    display (tag)\n",
    "    \n",
    "    velFinal = v + g * tiempo\n",
    "\n",
    "    solVel = widgets.Label (value=\"La velocidad con la que llega al suelo es: \"\n",
    "                                 + str(round(velFinal,3))+ \"$m/s$\")\n",
    "\n",
    "    display (solVel)\n",
    "    \n",
    "\n",
    "###########################################################################################################################\n",
    "\n",
    "\n",
    "def Inciso_D (discriminante):\n",
    "    \n",
    "    display (tag)\n",
    "    \n",
    "    yMax = -discriminante / (4 * 1/2 * g)\n",
    "\n",
    "    yMaxEtiqueta = widgets.Label (value=\"La altura máxima que alcanza el saco es de: \"\n",
    "                                 + str(round(yMax,3))+ \"$m$\")\n",
    "\n",
    "    display (yMaxEtiqueta)\n",
    "    \n",
    "    \n",
    "###########################################################################################################################\n",
    "\n",
    "\n",
    "def Inciso_E ():\n",
    "    \n",
    "    display (tag)\n",
    "\n",
    "    def CalculoVelocidad (arregloTiempo):\n",
    "        velocidad = v + g * arregloTiempo\n",
    "        return velocidad\n",
    "\n",
    "    def CalculoPosición (arregloTiempo):\n",
    "        posición = h + v * arregloTiempo + 1/2 * g * arregloTiempo ** 2\n",
    "        return posición\n",
    "\n",
    "    def GraficoInteractivo(tiempo):\n",
    "         \n",
    "        arregloTiempo = np.linspace (0, tiempo, 20)\n",
    "        posiciónActual = CalculoPosición (arregloTiempo)\n",
    "        velocidadActual = CalculoVelocidad (arregloTiempo)\n",
    "        aceleraciónActual = np.ones (20) * g\n",
    "\n",
    "        fig, (ax1, ax2, ax3) = plt.subplots (1, 3, figsize = (20,7), dpi= 120, sharex = True)\n",
    "\n",
    "        ax1.set_xlabel('Tiempo $(s)$')\n",
    "        ax1.set_ylabel('Posición $(m)$')\n",
    "        ax1.plot (arregloTiempo, posiciónActual)\n",
    "        ax1.set_xlim([0, 4]) \n",
    "        ax1.set_ylim([0, 50])  \n",
    "        ax1.grid ()\n",
    "\n",
    "        ax2.set_xlabel('Tiempo $(s)$')\n",
    "        ax2.set_ylabel('Velocidad $(m/s)$')\n",
    "        ax2.plot (arregloTiempo, velocidadActual) \n",
    "        ax2.set_xlim([0, 3.5])\n",
    "        ax2.set_ylim([-40, 10]) \n",
    "        ax2.grid ()\n",
    "\n",
    "        ax3.set_xlabel('Tiempo $(s)$')\n",
    "        ax3.set_ylabel('Aceleración $(m/s^2)$')\n",
    "        ax1.set_xlim([0, 3.5])\n",
    "        ax3.set_ylim([-14, 8]) \n",
    "        ax3.plot (arregloTiempo, aceleraciónActual)\n",
    "        ax3.grid ()\n",
    "    \n",
    "    \n",
    "    play = widgets.Play(value=0, min=0, max=4, step=1, disabled=False)\n",
    "    tieEtiqueta = widgets.Label (value=\"Tiempo $(s)$:\")\n",
    "    tieSlider = widgets.FloatSlider(min=0, max=4,)\n",
    "    widgets.jslink((play, 'value'), (tieSlider, 'value'))\n",
    "    cajaTiempo = widgets.HBox([tieEtiqueta, tieSlider])\n",
    "\n",
    "\n",
    "    salida = widgets.interactive_output(GraficoInteractivo, {'tiempo':tieSlider})\n",
    "\n",
    "    display(cajaTiempo, play, salida)"
   ]
  },
  {
   "cell_type": "markdown",
   "metadata": {},
   "source": [
    "## Caída Libre"
   ]
  },
  {
   "cell_type": "markdown",
   "metadata": {},
   "source": [
    "Un ejemplo claro de movimiento con aceleración constante es el caso de la caída libre. Esto debido a que el cuerpo está sometido, en situaciones ideales, solamente a la aceleración producida por la gravedad, la cual en la Tierra es de aproximadamente:\n",
    "$$\n",
    "a=|g|=9.81~\\text{m/s²}\n",
    "$$\n",
    "Como ejemplo de este caso se analizará el siguiente problema."
   ]
  },
  {
   "attachments": {
    "Globo.png": {
     "image/png": "[encoded data removed]"
    }
   },
   "cell_type": "markdown",
   "metadata": {},
   "source": [
    "El tripulante de un globo aerostático, que sube verticalmente con velocidad constante de magnitud $5.00~\\text{m/s}$, suelta un saco de arena cuando el globo está a $40.0~\\text{m}$ sobre el suelo, como se muestra en la siguiente figura.\n",
    "![Globo.png](attachment:Globo.png)\n",
    "Después de que se suelta, el saco de arena está en caída libre. \n",
    "\n",
    "a) Calcule la posición y velocidad del saco a $0.250~\\text{s}$ y $1.00~\\text{s}$ después de soltarse.\n",
    "\n",
    "b) ¿Cuántos segundos tardará el saco en chocar con el suelo después de soltarse? \n",
    "\n",
    "c) ¿Con qué velocidad chocará? \n",
    "\n",
    "d) ¿Qué altura máxima alcanza el saco en relación con el suelo? \n",
    "\n",
    "e) Dibuje las gráficas ay-t, vy-t y y-t para el movimiento."
   ]
  },
  {
   "cell_type": "markdown",
   "metadata": {},
   "source": [
    "Definimos el valor de la gravedad que usaremos para este ejercicio.\n",
    "El sistema de coordenadas apuntará positivo a la derecha y arriba.\n",
    "$$\n",
    "a = g = -9.81~\\text{m/s²}\n",
    "$$\n",
    "\n",
    "Se requiere el valor de la velocidad del globo que da el enunciado.\n",
    "$$\n",
    "v_0 = 5.00~\\text{m/s}\n",
    "$$\n",
    "\n",
    "Se define según el enunciado el valor de la altura conseguida.\n",
    "$$\n",
    "h = 40~\\text{m}\n",
    "$$"
   ]
  },
  {
   "cell_type": "markdown",
   "metadata": {},
   "source": [
    "## Solución"
   ]
  },
  {
   "cell_type": "markdown",
   "metadata": {},
   "source": [
    "### a) Calcule la posición y velocidad del saco a $0.250~\\text{s}$ y $1.00~\\text{s}$ después de soltarse.\n",
    "Para la primera parte del problema se definen las ecuaciónes necesarias. Al ser un desplazamiento en el eje $y$ se utiliza esta variable.\n",
    "\n",
    "$$\n",
    "y = y_0 + v_0t + \\dfrac{1}{2}at^2\n",
    "$$\n",
    "\n",
    "$$\n",
    "v = v_0 + at\n",
    "$$\n",
    "\n",
    "Para esta primera parte, simplemente se debe sustituir las variables por los datos brindados en el enunciado."
   ]
  },
  {
   "cell_type": "code",
   "execution_count": 3,
   "metadata": {},
   "outputs": [
    {
     "data": {
      "text/html": [
       "<script>\n",
       "code_show=false; \n",
       "function code_toggle() {\n",
       "    if (code_show){\n",
       "        $('div.cell.code_cell.rendered.selected div.input').hide();\n",
       "    } else {\n",
       "        $('div.cell.code_cell.rendered.selected div.input').show();\n",
       "    }\n",
       "    code_show = !code_show\n",
       "} \n",
       "\n",
       "$( document ).ready(code_toggle);\n",
       "</script>\n",
       "\n",
       "Para mostrar/ocultar código presione <a href=\"javascript:code_toggle()\">aquí</a>."
      ],
      "text/plain": [
       "<IPython.core.display.HTML object>"
      ]
     },
     "metadata": {},
     "output_type": "display_data"
    },
    {
     "data": {
      "application/vnd.jupyter.widget-view+json": {
       "model_id": "8ae3ee94d9894782949ddbe1ef7b515e",
       "version_major": 2,
       "version_minor": 0
      },
      "text/plain": [
       "Label(value='La posicion en $t_1$ es de: 40.943$m$ sobre el suelo')"
      ]
     },
     "metadata": {},
     "output_type": "display_data"
    },
    {
     "data": {
      "application/vnd.jupyter.widget-view+json": {
       "model_id": "8b043f4456d14fd1ae41e703db0ea556",
       "version_major": 2,
       "version_minor": 0
      },
      "text/plain": [
       "Label(value='La velocidad en $t_1$ es de: 2.547$m/s$ sobre el suelo')"
      ]
     },
     "metadata": {},
     "output_type": "display_data"
    },
    {
     "data": {
      "application/vnd.jupyter.widget-view+json": {
       "model_id": "10e5f8c670eb458d8c7d9bc56ba6bdc7",
       "version_major": 2,
       "version_minor": 0
      },
      "text/plain": [
       "Label(value='La posicion en $t_2$ es de: 40.095$m$ sobre el suelo')"
      ]
     },
     "metadata": {},
     "output_type": "display_data"
    },
    {
     "data": {
      "application/vnd.jupyter.widget-view+json": {
       "model_id": "64299e394f7c4e67a4b58e2d709dca53",
       "version_major": 2,
       "version_minor": 0
      },
      "text/plain": [
       "Label(value='La velocidad en $t_2$ es de: -4.81$m/s$ sobre el suelo')"
      ]
     },
     "metadata": {},
     "output_type": "display_data"
    }
   ],
   "source": [
    "\n",
    "Inciso_A ()"
   ]
  },
  {
   "cell_type": "markdown",
   "metadata": {},
   "source": [
    "### b) ¿Cuántos segundos tardará el saco en chocar con el suelo después de soltarse?\n",
    "En el inciso b se solicita el tiempo que tarda en chocar al suelo. Por lo que se puede utilizar la ecuación:\n",
    "\n",
    "$$\n",
    "y = y_0 + v_0t + \\dfrac{1}{2}at^2\n",
    "$$\n",
    "\n",
    "La cual es una ecuación cuadrática por lo que se pueden obtener 2 soluciones."
   ]
  },
  {
   "cell_type": "code",
   "execution_count": 9,
   "metadata": {},
   "outputs": [
    {
     "data": {
      "text/html": [
       "<script>\n",
       "code_show=false; \n",
       "function code_toggle() {\n",
       "    if (code_show){\n",
       "        $('div.cell.code_cell.rendered.selected div.input').hide();\n",
       "    } else {\n",
       "        $('div.cell.code_cell.rendered.selected div.input').show();\n",
       "    }\n",
       "    code_show = !code_show\n",
       "} \n",
       "\n",
       "$( document ).ready(code_toggle);\n",
       "</script>\n",
       "\n",
       "Para mostrar/ocultar código presione <a href=\"javascript:code_toggle()\">aquí</a>."
      ],
      "text/plain": [
       "<IPython.core.display.HTML object>"
      ]
     },
     "metadata": {},
     "output_type": "display_data"
    },
    {
     "data": {
      "application/vnd.jupyter.widget-view+json": {
       "model_id": "93c63fdc4841484381826b22e4aa7c77",
       "version_major": 2,
       "version_minor": 0
      },
      "text/plain": [
       "Label(value='Una solución para t es: -2.391$s$')"
      ]
     },
     "metadata": {},
     "output_type": "display_data"
    },
    {
     "data": {
      "application/vnd.jupyter.widget-view+json": {
       "model_id": "438d3ccd45784dcc974455609673b745",
       "version_major": 2,
       "version_minor": 0
      },
      "text/plain": [
       "Label(value='Una solución para t es: 3.41$s$ ')"
      ]
     },
     "metadata": {},
     "output_type": "display_data"
    }
   ],
   "source": [
    "solucion = Inciso_B ()\n",
    "\n",
    "discriminante = solucion [0]\n",
    "tiempo = solucion [1]"
   ]
  },
  {
   "cell_type": "markdown",
   "metadata": {},
   "source": [
    "La solución negativa se descarta porque no tiene sentido físico en esta situación. Se concluye que el saco chocó contra el suelo a los $3.41~\\text{s}$ de ser lanzado"
   ]
  },
  {
   "cell_type": "markdown",
   "metadata": {},
   "source": [
    "### c) ¿Con qué velocidad chocará?\n",
    "En el caso del inciso c se solicita la velocidad final, por lo que se puede utilizar la siguiente ecuación.\n",
    "$$\n",
    "v = v_0 + at\n",
    "$$\n",
    "\n",
    "Para la cual solo se deben realizar las sutituciones de las variables por los valores dados y los obtenidos. Por lo que:\n"
   ]
  },
  {
   "cell_type": "code",
   "execution_count": 10,
   "metadata": {},
   "outputs": [
    {
     "data": {
      "text/html": [
       "<script>\n",
       "code_show=false; \n",
       "function code_toggle() {\n",
       "    if (code_show){\n",
       "        $('div.cell.code_cell.rendered.selected div.input').hide();\n",
       "    } else {\n",
       "        $('div.cell.code_cell.rendered.selected div.input').show();\n",
       "    }\n",
       "    code_show = !code_show\n",
       "} \n",
       "\n",
       "$( document ).ready(code_toggle);\n",
       "</script>\n",
       "\n",
       "Para mostrar/ocultar código presione <a href=\"javascript:code_toggle()\">aquí</a>."
      ],
      "text/plain": [
       "<IPython.core.display.HTML object>"
      ]
     },
     "metadata": {},
     "output_type": "display_data"
    },
    {
     "data": {
      "application/vnd.jupyter.widget-view+json": {
       "model_id": "78d38e835a5d429687b3e993fa07da95",
       "version_major": 2,
       "version_minor": 0
      },
      "text/plain": [
       "Label(value='La velocidad con la que llega al suelo es: -28.457$m/s$')"
      ]
     },
     "metadata": {},
     "output_type": "display_data"
    }
   ],
   "source": [
    "Inciso_C (tiempo)"
   ]
  },
  {
   "cell_type": "markdown",
   "metadata": {},
   "source": [
    "### d) ¿Qué altura máxima alcanza el saco en relación con el suelo?\n",
    "Para el inciso d se solicita la altura que alcanza el saco. Se utiliza la ecuación:\n",
    "$$\n",
    "y = y_0 + v_0t + \\dfrac{1}{2}at^2\n",
    "$$\n",
    "\n",
    "Al ser cuadrática se sabe que el vértice en el eje $y$ es igual a:\n",
    "\n",
    "$$\n",
    "y_{max}= \\dfrac{\\sqrt{v^2-4\\dfrac{g}{2}h}}{4\\dfrac{g}{2}}\n",
    "$$\n",
    "\n"
   ]
  },
  {
   "cell_type": "code",
   "execution_count": 4,
   "metadata": {},
   "outputs": [
    {
     "data": {
      "text/html": [
       "<script>\n",
       "code_show=false; \n",
       "function code_toggle() {\n",
       "    if (code_show){\n",
       "        $('div.cell.code_cell.rendered.selected div.input').hide();\n",
       "    } else {\n",
       "        $('div.cell.code_cell.rendered.selected div.input').show();\n",
       "    }\n",
       "    code_show = !code_show\n",
       "} \n",
       "\n",
       "$( document ).ready(code_toggle);\n",
       "</script>\n",
       "\n",
       "Para mostrar/ocultar código presione <a href=\"javascript:code_toggle()\">aquí</a>."
      ],
      "text/plain": [
       "<IPython.core.display.HTML object>"
      ]
     },
     "metadata": {},
     "output_type": "display_data"
    },
    {
     "data": {
      "application/vnd.jupyter.widget-view+json": {
       "model_id": "02b3d0cd49b24229b1bc22e97de5a6e6",
       "version_major": 2,
       "version_minor": 0
      },
      "text/plain": [
       "Label(value='La altura máxima que alcanza el saco es de: 41.274$m$')"
      ]
     },
     "metadata": {},
     "output_type": "display_data"
    }
   ],
   "source": [
    "Inciso_D (discriminante)"
   ]
  },
  {
   "cell_type": "markdown",
   "metadata": {},
   "source": [
    "### e) Dibuje las gráficas ay-t, vy-t y y-t para el movimiento.\n",
    "\n",
    "Finalmente, graficando el movimiente  se obtiene:"
   ]
  },
  {
   "cell_type": "code",
   "execution_count": 11,
   "metadata": {},
   "outputs": [
    {
     "data": {
      "text/html": [
       "<script>\n",
       "code_show=false; \n",
       "function code_toggle() {\n",
       "    if (code_show){\n",
       "        $('div.cell.code_cell.rendered.selected div.input').hide();\n",
       "    } else {\n",
       "        $('div.cell.code_cell.rendered.selected div.input').show();\n",
       "    }\n",
       "    code_show = !code_show\n",
       "} \n",
       "\n",
       "$( document ).ready(code_toggle);\n",
       "</script>\n",
       "\n",
       "Para mostrar/ocultar código presione <a href=\"javascript:code_toggle()\">aquí</a>."
      ],
      "text/plain": [
       "<IPython.core.display.HTML object>"
      ]
     },
     "metadata": {},
     "output_type": "display_data"
    },
    {
     "data": {
      "application/vnd.jupyter.widget-view+json": {
       "model_id": "e9b54bdcd9114729b3daf3accd42c4be",
       "version_major": 2,
       "version_minor": 0
      },
      "text/plain": [
       "HBox(children=(Label(value='Tiempo $(s)$:'), FloatSlider(value=0.0, max=4.0)))"
      ]
     },
     "metadata": {},
     "output_type": "display_data"
    },
    {
     "data": {
      "application/vnd.jupyter.widget-view+json": {
       "model_id": "1d39df80cf844d9d8dc79863e906524e",
       "version_major": 2,
       "version_minor": 0
      },
      "text/plain": [
       "Play(value=0, max=4)"
      ]
     },
     "metadata": {},
     "output_type": "display_data"
    },
    {
     "data": {
      "application/vnd.jupyter.widget-view+json": {
       "model_id": "23050b65bede4a41ac4760fc094aa714",
       "version_major": 2,
       "version_minor": 0
      },
      "text/plain": [
       "Output()"
      ]
     },
     "metadata": {},
     "output_type": "display_data"
    }
   ],
   "source": [
    "Inciso_E ()"
   ]
  },
  {
   "cell_type": "code",
   "execution_count": null,
   "metadata": {},
   "outputs": [],
   "source": []
  }
 ],
 "metadata": {
  "kernelspec": {
   "display_name": "Python 3",
   "language": "python",
   "name": "python3"
  },
  "language_info": {
   "codemirror_mode": {
    "name": "ipython",
    "version": 3
   },
   "file_extension": ".py",
   "mimetype": "text/x-python",
   "name": "python",
   "nbconvert_exporter": "python",
   "pygments_lexer": "ipython3",
   "version": "3.8.8"
  }
 },
 "nbformat": 4,
 "nbformat_minor": 4
}
