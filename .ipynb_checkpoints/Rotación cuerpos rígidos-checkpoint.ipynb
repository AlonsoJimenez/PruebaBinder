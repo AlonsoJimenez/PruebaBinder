{
 "cells": [
  {
   "cell_type": "code",
   "execution_count": 9,
   "id": "5b3019a0",
   "metadata": {},
   "outputs": [],
   "source": [
    "from matplotlib import container\n",
    "from numpy.lib import info\n",
    "from IPython.display import HTML\n",
    "from IPython.display import display\n",
    "\n",
    "from ipywidgets import interactive\n",
    "import ipywidgets as widgets\n",
    "import numpy as np\n",
    "import math\n",
    "import matplotlib.pyplot as plt\n",
    "import matplotlib.patches as patches\n",
    "import matplotlib.image as img\n",
    "from matplotlib.offsetbox import  AnnotationBbox, OffsetImage\n",
    "\n",
    "\n",
    "\n",
    "tag = HTML('''<script>\n",
    "code_show=false; \n",
    "function code_toggle() {\n",
    "    if (code_show){\n",
    "        $('div.cell.code_cell.rendered.selected div.input').hide();\n",
    "    } else {\n",
    "        $('div.cell.code_cell.rendered.selected div.input').show();\n",
    "    }\n",
    "    code_show = !code_show\n",
    "} \n",
    "\n",
    "$( document ).ready(code_toggle);\n",
    "</script>\n",
    "\n",
    "Para mostrar/ocultar código presione <a href=\"javascript:code_toggle()\">aquí</a>.''')\n",
    "\n",
    "def posicionCirculo(radio, velocidadI, aceleracion, tiempo):\n",
    "    angulo = velocidadI*tiempo+(aceleracion*tiempo**2)/2\n",
    "    return [math.cos(angulo)*radio, math.sin(angulo)*radio]\n",
    "\n",
    "def velocidadA(velocidadI, aceleracion, tiempo):\n",
    "    return velocidadI+aceleracion*tiempo\n",
    "\n",
    "def velocidadLineal(radio, velocidadI, aceleracion, tiempo):\n",
    "    velocidadAngular = velocidadA(velocidadI, aceleracion, tiempo)\n",
    "    return velocidadAngular*radio\n",
    "\n",
    "def aceleracionLineal(aceleracion, radio):\n",
    "    return aceleracion*radio\n",
    "\n",
    "def graficas():\n",
    "    \n",
    "    display (tag)\n",
    "    \n",
    "    def GraficoInteractivoGeneral(radio, velocidadI, aceleracion, tiempo):\n",
    "        \n",
    "        tiempo = tiempo/1000\n",
    "        posiciónActual = posicionCirculo(radio, velocidadI, aceleracion, tiempo)\n",
    "        velocidadAActual = velocidadA(velocidadI, aceleracion, tiempo)\n",
    "        aceleraciónAActual = aceleracion\n",
    "        velocidadLActual = velocidadLineal(radio, velocidadI, aceleracion, tiempo)\n",
    "        aceleraciónLActual = aceleracionLineal(aceleracion, radio)\n",
    "\n",
    "        fig,(ax1, ax2) = plt.subplots (1, 2, figsize = (17,5), dpi= 120, sharex = True)\n",
    "\n",
    "        ax1.set_xlabel('Posicion X $(m)$')\n",
    "        ax1.set_ylabel('Posicion Y $(m)$')\n",
    "        ax1.add_patch(\n",
    "           plt.Circle((2,0), radio, fill=False) )\n",
    "        ax1.add_patch (plt.Circle((2+posiciónActual[0], posiciónActual[1]), 0.1, fill=True))\n",
    "        ax1.set_xlim([-radio*1.5, radio*1.5]) \n",
    "        ax1.set_ylim([-1.5, 1.5]) \n",
    "        ax1.axis (\"off\")\n",
    "\n",
    "\n",
    "\n",
    "        ax2.set_title('Valores lineales y angulares')\n",
    "        ax2.bar(['Velocidad \\n angular $(rad/s)$', 'Aceleración \\n angular $(rad/s^2)$',\n",
    "                 'Velocidad \\n lineal $(m/s)$', 'Aceleración \\n angular $(m/s^2)$'],\n",
    "                [velocidadAActual, aceleraciónAActual,velocidadLActual, aceleraciónLActual])\n",
    "        ax2.set_xlim(-1,4)\n",
    "        ax2.set_ylim(0,50)\n",
    "\n",
    "\n",
    "        plt.show()\n",
    "\n",
    "        return\n",
    "\n",
    "\n",
    "    radioEtiqueta = widgets.Label (value=\"Radio $(m)$:\")\n",
    "    radioSlider = widgets.FloatSlider(min=0.1, max=1.5, step=0.1, value=1)\n",
    "    cajaRadio = widgets.HBox([radioEtiqueta, radioSlider])\n",
    "\n",
    "    velEtiqueta = widgets.Label (value=\"Velocidad angular Inicial $(rad/s)$:\")\n",
    "    velSlider = widgets.FloatSlider(min=1, max=10, step=0.01, value=0.0)\n",
    "    cajaVelocidad = widgets.HBox([velEtiqueta, velSlider])\n",
    "\n",
    "    acelEtiqueta = widgets.Label (value=\"Aceleración angular Inicial $(rad/s^2)$:\")\n",
    "    acelSlider = widgets.FloatSlider(min=0, max=10, step=0.01, value=0.0)\n",
    "    cajaAceleracion = widgets.HBox([acelEtiqueta, acelSlider])\n",
    "\n",
    "    play = widgets.Play(value=0, min=0, max=6500, step=100, disabled=False)\n",
    "    tieEtiqueta = widgets.Label (value=\"Tiempo $(ms)$:\")\n",
    "    tieSlider = widgets.FloatSlider(min=0, max=6500,)\n",
    "    widgets.jslink((play, 'value'), (tieSlider, 'value'))\n",
    "    cajaTiempo = widgets.HBox([tieEtiqueta, tieSlider])\n",
    "\n",
    "    salida = widgets.interactive_output(GraficoInteractivoGeneral, {'radio':radioSlider,\n",
    "                                                                  'velocidadI':velSlider,\n",
    "                                                                  'aceleracion': acelSlider,\n",
    "                                                                  'tiempo':tieSlider})\n",
    "\n",
    "    display(cajaRadio, cajaVelocidad, cajaAceleracion, cajaTiempo, play, salida)"
   ]
  },
  {
   "cell_type": "markdown",
   "id": "10711366",
   "metadata": {},
   "source": [
    "# Velocidad y aceleraciones angulares"
   ]
  },
  {
   "cell_type": "markdown",
   "id": "1ea9199b",
   "metadata": {},
   "source": [
    "De la misma forma que la velocidad lineal mide el cambio en la posición respecto al tiempo, la velocidad angular hace una medición del cambio de un ángulo respecto al tiempo. Entonces de manera análoga podemos comparar las siguientes ecuaciones.\n",
    "\n",
    "$$\n",
    "\\dfrac{dx}{dt}=\\vec{v}\n",
    "$$\n",
    "\n",
    "$$\n",
    "\\dfrac{d\\theta}{dt}=\\omega\n",
    "$$\n",
    "\n",
    "Mismo caso sucede con la aceleración por lo que entonces planteamos las ecuaciones.\n",
    "\n",
    "$$\n",
    "\\dfrac{d\\vec{v}}{dt}=\\vec{a}\n",
    "$$\n",
    "\n",
    "$$\n",
    "\\dfrac{d\\omega}{dt}=\\alpha=\\dfrac{d^2\\theta}{dt^2}\n",
    "$$\n",
    "\n",
    "Existe una relación entre las ecuaciones lineales y angulares. Al multiplicar el radio por cualquiera de las ecuaciones mostradas anteriormente (velocidad y aceleración angular) obtendremos la ecuación lineal análoga. Igaulmente es importante recalcar que las ecuaciones estudiadas para velocidades y aceleraciones lineales se pueden transformar en angulares, por ejemplo la ecuación para un movimiento con aceleración constante que nos daria la posición sería\n",
    "\n",
    "$$\n",
    "\\theta=\\theta_0+\\omega_0t+\\dfrac{\\alpha_zt^2}{2}\n",
    "$$\n",
    "\n",
    "Las ecuaciones angulares pueden tener dirección utilizando la regla de la mano derecha como se puede observar en la siguiente animación. \n",
    "\n",
    "![SegmentLocal](ManoDerecha.png)"
   ]
  },
  {
   "cell_type": "code",
   "execution_count": 10,
   "id": "ff92941c",
   "metadata": {
    "scrolled": false
   },
   "outputs": [
    {
     "data": {
      "text/html": [
       "<script>\n",
       "code_show=false; \n",
       "function code_toggle() {\n",
       "    if (code_show){\n",
       "        $('div.cell.code_cell.rendered.selected div.input').hide();\n",
       "    } else {\n",
       "        $('div.cell.code_cell.rendered.selected div.input').show();\n",
       "    }\n",
       "    code_show = !code_show\n",
       "} \n",
       "\n",
       "$( document ).ready(code_toggle);\n",
       "</script>\n",
       "\n",
       "Para mostrar/ocultar código presione <a href=\"javascript:code_toggle()\">aquí</a>."
      ],
      "text/plain": [
       "<IPython.core.display.HTML object>"
      ]
     },
     "metadata": {},
     "output_type": "display_data"
    },
    {
     "data": {
      "application/vnd.jupyter.widget-view+json": {
       "model_id": "c6deea8f56824f7fb2bafa4c8d3a39e2",
       "version_major": 2,
       "version_minor": 0
      },
      "text/plain": [
       "HBox(children=(Label(value='Radio $(m)$:'), FloatSlider(value=1.0, max=1.5, min=0.1)))"
      ]
     },
     "metadata": {},
     "output_type": "display_data"
    },
    {
     "data": {
      "application/vnd.jupyter.widget-view+json": {
       "model_id": "dcf4cf873f964b19a67db314f6dd38d6",
       "version_major": 2,
       "version_minor": 0
      },
      "text/plain": [
       "HBox(children=(Label(value='Velocidad angular Inicial $(rad/s)$:'), FloatSlider(value=1.0, max=10.0, min=1.0, …"
      ]
     },
     "metadata": {},
     "output_type": "display_data"
    },
    {
     "data": {
      "application/vnd.jupyter.widget-view+json": {
       "model_id": "5ce203cc78e8418b838a8168ac3cd596",
       "version_major": 2,
       "version_minor": 0
      },
      "text/plain": [
       "HBox(children=(Label(value='Aceleración angular Inicial $(rad/s^2)$:'), FloatSlider(value=0.0, max=10.0, step=…"
      ]
     },
     "metadata": {},
     "output_type": "display_data"
    },
    {
     "data": {
      "application/vnd.jupyter.widget-view+json": {
       "model_id": "f1f2544d9c1a40f4bf2314521ed8a94b",
       "version_major": 2,
       "version_minor": 0
      },
      "text/plain": [
       "HBox(children=(Label(value='Tiempo $(ms)$:'), FloatSlider(value=0.0, max=6500.0)))"
      ]
     },
     "metadata": {},
     "output_type": "display_data"
    },
    {
     "data": {
      "application/vnd.jupyter.widget-view+json": {
       "model_id": "dd1ad508ba3245699f689d926eda9b47",
       "version_major": 2,
       "version_minor": 0
      },
      "text/plain": [
       "Play(value=0, max=6500, step=100)"
      ]
     },
     "metadata": {},
     "output_type": "display_data"
    },
    {
     "data": {
      "application/vnd.jupyter.widget-view+json": {
       "model_id": "1070eb5658cf4dbc881c1c3362aeb77b",
       "version_major": 2,
       "version_minor": 0
      },
      "text/plain": [
       "Output()"
      ]
     },
     "metadata": {},
     "output_type": "display_data"
    }
   ],
   "source": [
    "graficas()"
   ]
  },
  {
   "cell_type": "code",
   "execution_count": null,
   "id": "1321e5c5",
   "metadata": {},
   "outputs": [],
   "source": []
  }
 ],
 "metadata": {
  "kernelspec": {
   "display_name": "Python 3",
   "language": "python",
   "name": "python3"
  },
  "language_info": {
   "codemirror_mode": {
    "name": "ipython",
    "version": 3
   },
   "file_extension": ".py",
   "mimetype": "text/x-python",
   "name": "python",
   "nbconvert_exporter": "python",
   "pygments_lexer": "ipython3",
   "version": "3.8.8"
  }
 },
 "nbformat": 4,
 "nbformat_minor": 5
}
