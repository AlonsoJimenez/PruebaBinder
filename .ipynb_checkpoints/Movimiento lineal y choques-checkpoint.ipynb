{
 "cells": [
  {
   "cell_type": "code",
   "execution_count": 10,
   "id": "3e01c664",
   "metadata": {},
   "outputs": [],
   "source": [
    "from matplotlib import container\n",
    "from numpy.lib import info\n",
    "from IPython.display import HTML\n",
    "from IPython.display import display\n",
    "\n",
    "from ipywidgets import interactive\n",
    "import ipywidgets as widgets\n",
    "import numpy as np\n",
    "import math\n",
    "import matplotlib.pyplot as plt\n",
    "import matplotlib.patches as patches\n",
    "import matplotlib.image as img\n",
    "from matplotlib.offsetbox import  AnnotationBbox, OffsetImage\n",
    "\n",
    "\n",
    "\n",
    "tag = HTML('''<script>\n",
    "code_show=false; \n",
    "function code_toggle() {\n",
    "    if (code_show){\n",
    "        $('div.cell.code_cell.rendered.selected div.input').hide();\n",
    "    } else {\n",
    "        $('div.cell.code_cell.rendered.selected div.input').show();\n",
    "    }\n",
    "    code_show = !code_show\n",
    "} \n",
    "\n",
    "$( document ).ready(code_toggle);\n",
    "</script>\n",
    "\n",
    "Para mostrar/ocultar código presione <a href=\"javascript:code_toggle()\">aquí</a>.''')\n",
    "\n",
    "def naveCalculo(masaCohete, masaExpulsada, velocidadExpulsada):\n",
    "    return (masaExpulsada*velocidadExpulsada)/masaCohete\n",
    "\n",
    "def posicionNave(t, masaCohete, masaExpulsada, velocidadExpulsada):\n",
    "    velocidad = naveCalculo(masaCohete, masaExpulsada, velocidadExpulsada)\n",
    "    return velocidad*t\n",
    "\n",
    "def posicionesBillar(velocidadChoque, masa1, masa2, t):\n",
    "    if(velocidadChoque*t>=44):\n",
    "        return [[0, 0], [t*velocidadChoque*masa1/masa2, 0]]\n",
    "    else:\n",
    "        return[[velocidadChoque*t - 44, 0], [0, 0]]\n",
    "\n",
    "def graficoCohete():\n",
    "\n",
    "    display (tag)\n",
    "\n",
    "    def mostrarGrafico(t, masaCohete, masaExpulsada, velocidadExpulsada):\n",
    "        rocketImage = plt.imread('Rocket.jpg')\n",
    "        imageRocket = OffsetImage(rocketImage, 0.45)\n",
    "        xy = posicionNave(t, masaCohete, masaExpulsada, velocidadExpulsada)\n",
    "        fig, ax = plt.subplots ()\n",
    "        rocket = AnnotationBbox(imageRocket, [xy, 0])\n",
    "        ax.add_artist(rocket)\n",
    "        plt.xlim (-5, 500)\n",
    "        plt.ylim (-10, 10)\n",
    "        ax.set_title('Cohete')  \n",
    "        plt.show()\n",
    "        return \n",
    "         \n",
    "\n",
    "    masaCoheteEtiqueta = widgets.Label (value=\"Masa cohete $(kg)$:\")\n",
    "    masaCoheteSlider = widgets.FloatSlider(min=0.5, max=3, step=0.1, value=2.0)\n",
    "\n",
    "    masaExpulsadaEtiqueta = widgets.Label (value=\"Masa expulsada $(kg)$:\")\n",
    "    masaExpulsadaSlider = widgets.FloatSlider(min=0.5, max=3, step=0.1, value=2.0)\n",
    "\n",
    "    cajaMasaCohete = widgets.HBox([masaCoheteEtiqueta, masaCoheteSlider])\n",
    "    cajaMasaExpulsada = widgets.HBox([masaExpulsadaEtiqueta, masaExpulsadaSlider])\n",
    "\n",
    "    velocidadEtiqueta = widgets.Label (value=\"Velocidad expulsada $(m/s)$:\")\n",
    "    velocidadSlider = widgets.FloatSlider(min=0, max=10, step=0.1, value=5.0)\n",
    "\n",
    "    cajaVelocidad = widgets.HBox([velocidadEtiqueta, velocidadSlider])\n",
    "\n",
    "    play = widgets.Play(value=0, min=0, max=30, step=1, disabled=False)\n",
    "    tieEtiqueta = widgets.Label (value=\"Tiempo $(s)$:\")\n",
    "    tieSlider = widgets.FloatSlider(min=0, max=30,)\n",
    "    widgets.jslink((play, 'value'), (tieSlider, 'value'))\n",
    "    cajaTiempo = widgets.HBox([tieEtiqueta, tieSlider])\n",
    "\n",
    "    salida = widgets.interactive_output(mostrarGrafico, {'t':tieSlider, 'masaCohete': masaCoheteSlider, 'masaExpulsada': masaExpulsadaSlider, 'velocidadExpulsada': velocidadSlider})\n",
    "\n",
    "    display(cajaMasaCohete, cajaMasaExpulsada,cajaVelocidad, cajaTiempo, play, salida)\n",
    "\n",
    "def graficoBillar():\n",
    "\n",
    "    display (tag)\n",
    "\n",
    "    def mostrarGrafico(velocidadChoque, masa1, masa2, t):\n",
    "        xys = posicionesBillar(velocidadChoque, masa1, masa2, t)\n",
    "        fig, ax = plt.subplots ()\n",
    "        ax.add_patch(plt.Circle((xys[0][0], xys[0][1]), 5, fill = True, fc='white', ec='black'))\n",
    "        ax.add_patch(plt.Circle((xys[1][0], xys[1][1]), 5, fill = True, fc='black'))\n",
    "        plt.xlim (-57, 57)\n",
    "        plt.ylim (-57, 57)\n",
    "        ax.set_title('Billar')  \n",
    "        plt.show()\n",
    "        return \n",
    "         \n",
    "\n",
    "    masaEstaticaEtiqueta = widgets.Label (value=\"Masa bola estática $(kg)$:\")\n",
    "    masaEstaticaSlider = widgets.FloatSlider(min=0.5, max=3, step=0.1, value=2.0)\n",
    "\n",
    "    masaMovimientoEtiqueta = widgets.Label (value=\"Masa bola movimiento $(kg)$:\")\n",
    "    masaMovimientoSlider = widgets.FloatSlider(min=0.5, max=3, step=0.1, value=2.0)\n",
    "\n",
    "    cajaMasaEstatica = widgets.HBox([masaEstaticaEtiqueta, masaEstaticaSlider])\n",
    "    cajaMasaMovimiento = widgets.HBox([masaMovimientoEtiqueta, masaMovimientoSlider])\n",
    "\n",
    "    velocidadEtiqueta = widgets.Label (value=\"Velocidad expulsada $(m/s)$:\")\n",
    "    velocidadSlider = widgets.FloatSlider(min=0, max=10, step=0.1, value=5.0)\n",
    "\n",
    "    cajaVelocidad = widgets.HBox([velocidadEtiqueta, velocidadSlider])\n",
    "\n",
    "    play = widgets.Play(value=0, min=0, max=60, step=1, disabled=False)\n",
    "    tieEtiqueta = widgets.Label (value=\"Tiempo $(s)$:\")\n",
    "    tieSlider = widgets.FloatSlider(min=0, max=60,)\n",
    "    widgets.jslink((play, 'value'), (tieSlider, 'value'))\n",
    "    cajaTiempo = widgets.HBox([tieEtiqueta, tieSlider])\n",
    "\n",
    "    salida = widgets.interactive_output(mostrarGrafico, {'t':tieSlider, 'velocidadChoque': velocidadSlider, 'masa1': masaMovimientoSlider, 'masa2': masaEstaticaSlider})\n",
    "\n",
    "    display(cajaMasaEstatica, cajaMasaMovimiento, cajaVelocidad, cajaTiempo, play, salida)\n",
    "\n"
   ]
  },
  {
   "cell_type": "markdown",
   "id": "c0cbde9b",
   "metadata": {},
   "source": [
    "# Movimiento lineal e impulso"
   ]
  },
  {
   "cell_type": "markdown",
   "id": "ca116884",
   "metadata": {},
   "source": [
    "La segunda ley de Newton se plantea como F=ma, pero no se detiene a analizar que esto es cierto solo cuando la masa es un valor constante en el tiempo, si no fuera asi entonces dicha ecuación se podría plantear como:\n",
    "\n",
    "$$\n",
    "\\sum{\\vec{F}}=\\dfrac{d(m\\vec{v})}{dt}\n",
    "$$\n",
    "\n",
    "De esta forma observamos adentro de la derivada en el parentesis y definimos dicha propiedad como momento lineal, es decir \n",
    "$$\n",
    "\\vec{p}=m\\vec{v}\n",
    "$$\n",
    "$$\n",
    "\\sum{\\vec{F}}=\\dfrac{\\vec{p}}{dt}\n",
    "$$\n",
    "\n",
    "Podemos tambien dar la definicion de impulso como \n",
    "$$\n",
    "\\vec{J}=\\int{\\vec{F}dt}=\\Delta \\vec{p}\n",
    "$$\n",
    "\n",
    "Nota: Recordamos, en caso de ser constante algun valor de la integral puede salir de la integral y si es evaluada la integral se puede usar como valor constante el promedio de dicho valor."
   ]
  },
  {
   "cell_type": "markdown",
   "id": "7a8a3a07",
   "metadata": {},
   "source": [
    "Para ejemplificar la conservación de momento lineal utilizaremos una nave que expulsa una masa para adquirir velocidad, inicia en reposo:"
   ]
  },
  {
   "cell_type": "markdown",
   "id": "3795489c",
   "metadata": {},
   "source": [
    "## Conservación del momento lineal "
   ]
  },
  {
   "cell_type": "markdown",
   "id": "77c6aff3",
   "metadata": {},
   "source": [
    "Para conocer la interaccion entre cuerpos es importante notar que la sumatoria de los momentos lineales es constante.\n",
    "$$\n",
    "\\sum{\\vec{p_1}}=\\sum{\\vec{p_2}}\n",
    "$$\n",
    "Si separamos dicha ecuación por sus componentes cartesianas:\n",
    "$$\n",
    "\\sum{\\hat{i}p_{1x}}=\\sum{\\hat{i}p_{2x}}\n",
    "$$\n",
    "$$\n",
    "\\sum{\\hat{j}p_{1y}}=\\sum{\\hat{j}p_{2y}}\n",
    "$$\n",
    "$$\n",
    "\\sum{\\hat{k}p_{1z}}=\\sum{\\hat{k}p_{2z}}\n",
    "$$\n",
    "\n",
    "En la siguiente animación se puede observar como se conserva el momento lineal, esto ya que ambas bolas de billar tienen la misma masa, una practicamente queda sin moverse mientras la otra adquiere la velocidad con la que se impacta.\n",
    "\n",
    "![SegmentLocal](MomentoLineal.gif)"
   ]
  },
  {
   "cell_type": "code",
   "execution_count": 8,
   "id": "34bc28c0",
   "metadata": {},
   "outputs": [
    {
     "data": {
      "text/html": [
       "<script>\n",
       "code_show=false; \n",
       "function code_toggle() {\n",
       "    if (code_show){\n",
       "        $('div.cell.code_cell.rendered.selected div.input').hide();\n",
       "    } else {\n",
       "        $('div.cell.code_cell.rendered.selected div.input').show();\n",
       "    }\n",
       "    code_show = !code_show\n",
       "} \n",
       "\n",
       "$( document ).ready(code_toggle);\n",
       "</script>\n",
       "\n",
       "Para mostrar/ocultar código presione <a href=\"javascript:code_toggle()\">aquí</a>."
      ],
      "text/plain": [
       "<IPython.core.display.HTML object>"
      ]
     },
     "metadata": {},
     "output_type": "display_data"
    },
    {
     "data": {
      "application/vnd.jupyter.widget-view+json": {
       "model_id": "850218226bb54e339aa2f1f252a9d928",
       "version_major": 2,
       "version_minor": 0
      },
      "text/plain": [
       "HBox(children=(Label(value='Masa cohete $(kg)$:'), FloatSlider(value=2.0, max=3.0, min=0.5)))"
      ]
     },
     "metadata": {},
     "output_type": "display_data"
    },
    {
     "data": {
      "application/vnd.jupyter.widget-view+json": {
       "model_id": "e537299f00884353ae9d370ddc8048a0",
       "version_major": 2,
       "version_minor": 0
      },
      "text/plain": [
       "HBox(children=(Label(value='Masa expulsada $(kg)$:'), FloatSlider(value=2.0, max=3.0, min=0.5)))"
      ]
     },
     "metadata": {},
     "output_type": "display_data"
    },
    {
     "data": {
      "application/vnd.jupyter.widget-view+json": {
       "model_id": "e71ccd8c9c0c4f8dbf9cbd7f5dd01b3b",
       "version_major": 2,
       "version_minor": 0
      },
      "text/plain": [
       "HBox(children=(Label(value='Velocidad expulsada $(m/s)$:'), FloatSlider(value=5.0, max=10.0)))"
      ]
     },
     "metadata": {},
     "output_type": "display_data"
    },
    {
     "data": {
      "application/vnd.jupyter.widget-view+json": {
       "model_id": "1215c794d7814d44b38fe33799e56320",
       "version_major": 2,
       "version_minor": 0
      },
      "text/plain": [
       "HBox(children=(Label(value='Tiempo $(s)$:'), FloatSlider(value=0.0, max=30.0)))"
      ]
     },
     "metadata": {},
     "output_type": "display_data"
    },
    {
     "data": {
      "application/vnd.jupyter.widget-view+json": {
       "model_id": "7f3436fc178d440184038ee9115ba987",
       "version_major": 2,
       "version_minor": 0
      },
      "text/plain": [
       "Play(value=0, max=30)"
      ]
     },
     "metadata": {},
     "output_type": "display_data"
    },
    {
     "data": {
      "application/vnd.jupyter.widget-view+json": {
       "model_id": "39085990b0154d00a509d3b056a998a7",
       "version_major": 2,
       "version_minor": 0
      },
      "text/plain": [
       "Output()"
      ]
     },
     "metadata": {},
     "output_type": "display_data"
    }
   ],
   "source": [
    "graficoCohete()"
   ]
  },
  {
   "cell_type": "markdown",
   "id": "b04e0b77",
   "metadata": {},
   "source": [
    "# Choques"
   ]
  },
  {
   "cell_type": "markdown",
   "id": "6246d2bb",
   "metadata": {},
   "source": [
    "Para estudiar la interacción entre partículas o cualquier cuerpo se requiere hacer un análisis de choques. Para esto se dividirán las interacciones en tres: choques elásticos, inelásticos, completamente inelásticos. La diferencia entre estos es que en el primer caso toda la energía cinética se conserva, en el segundo caso solo parte se conserva y en el útlimo ambas partículas o cuerpos en estudio se mantienen juntos. \n",
    "\n",
    "En los tres casos de choques se cumple el principio de conservación de momento lineal por lo que es un tema muy relacionado. Es importante notar que la energía que se pierde en los choques inelásticos es debido a deformaciones que se dan, fricción, etc."
   ]
  },
  {
   "cell_type": "markdown",
   "id": "b5e3829c",
   "metadata": {},
   "source": [
    "## Choques elásticos "
   ]
  },
  {
   "cell_type": "markdown",
   "id": "15ec1aea",
   "metadata": {},
   "source": [
    "Al desarrollar las ecuaciones que toman en cuenta la conservación de la energía cinética y momento lineal obtenemos:\n",
    "$$\n",
    "V_{A1x}-V_{B1x}=V_{B2x}-V_{A2x}\n",
    "$$\n",
    "\n",
    "$$\n",
    "V_{A1y}-V_{B1y}=V_{B2y}-V_{A2y}\n",
    "$$\n",
    "\n",
    "$$\n",
    "V_{A1z}-V_{B1z}=V_{B2z}-V_{A2z}\n",
    "$$\n",
    "\n",
    "En las siguientes animaciones no interactiva e interactiva respectivamente se observa como se realiza un choque elástico.\n",
    "\n",
    "![SegmentLocal](ChoqueElastico.gif)"
   ]
  },
  {
   "cell_type": "code",
   "execution_count": 11,
   "id": "231699fe",
   "metadata": {},
   "outputs": [
    {
     "data": {
      "text/html": [
       "<script>\n",
       "code_show=false; \n",
       "function code_toggle() {\n",
       "    if (code_show){\n",
       "        $('div.cell.code_cell.rendered.selected div.input').hide();\n",
       "    } else {\n",
       "        $('div.cell.code_cell.rendered.selected div.input').show();\n",
       "    }\n",
       "    code_show = !code_show\n",
       "} \n",
       "\n",
       "$( document ).ready(code_toggle);\n",
       "</script>\n",
       "\n",
       "Para mostrar/ocultar código presione <a href=\"javascript:code_toggle()\">aquí</a>."
      ],
      "text/plain": [
       "<IPython.core.display.HTML object>"
      ]
     },
     "metadata": {},
     "output_type": "display_data"
    },
    {
     "data": {
      "application/vnd.jupyter.widget-view+json": {
       "model_id": "6428ce418e714209bbdb9b7cfd6441a5",
       "version_major": 2,
       "version_minor": 0
      },
      "text/plain": [
       "HBox(children=(Label(value='Masa bola estática $(kg)$:'), FloatSlider(value=2.0, max=3.0, min=0.5)))"
      ]
     },
     "metadata": {},
     "output_type": "display_data"
    },
    {
     "data": {
      "application/vnd.jupyter.widget-view+json": {
       "model_id": "b18d86ac76b0452a9b76818d89296a25",
       "version_major": 2,
       "version_minor": 0
      },
      "text/plain": [
       "HBox(children=(Label(value='Masa bola movimiento $(kg)$:'), FloatSlider(value=2.0, max=3.0, min=0.5)))"
      ]
     },
     "metadata": {},
     "output_type": "display_data"
    },
    {
     "data": {
      "application/vnd.jupyter.widget-view+json": {
       "model_id": "329eab40eca849b689ded39824f6fb4f",
       "version_major": 2,
       "version_minor": 0
      },
      "text/plain": [
       "HBox(children=(Label(value='Velocidad expulsada $(m/s)$:'), FloatSlider(value=5.0, max=10.0)))"
      ]
     },
     "metadata": {},
     "output_type": "display_data"
    },
    {
     "data": {
      "application/vnd.jupyter.widget-view+json": {
       "model_id": "6f443e8605d842559181a34e8b03e00b",
       "version_major": 2,
       "version_minor": 0
      },
      "text/plain": [
       "HBox(children=(Label(value='Tiempo $(s)$:'), FloatSlider(value=0.0, max=60.0)))"
      ]
     },
     "metadata": {},
     "output_type": "display_data"
    },
    {
     "data": {
      "application/vnd.jupyter.widget-view+json": {
       "model_id": "9bb9c429c9624d92889ff550dad830ed",
       "version_major": 2,
       "version_minor": 0
      },
      "text/plain": [
       "Play(value=0, max=60)"
      ]
     },
     "metadata": {},
     "output_type": "display_data"
    },
    {
     "data": {
      "application/vnd.jupyter.widget-view+json": {
       "model_id": "059e9b25f32c4fdeac2c35534eee452f",
       "version_major": 2,
       "version_minor": 0
      },
      "text/plain": [
       "Output()"
      ]
     },
     "metadata": {},
     "output_type": "display_data"
    }
   ],
   "source": [
    "graficoBillar()"
   ]
  },
  {
   "cell_type": "code",
   "execution_count": null,
   "id": "4e2112c1",
   "metadata": {},
   "outputs": [],
   "source": []
  }
 ],
 "metadata": {
  "kernelspec": {
   "display_name": "Python 3",
   "language": "python",
   "name": "python3"
  },
  "language_info": {
   "codemirror_mode": {
    "name": "ipython",
    "version": 3
   },
   "file_extension": ".py",
   "mimetype": "text/x-python",
   "name": "python",
   "nbconvert_exporter": "python",
   "pygments_lexer": "ipython3",
   "version": "3.8.8"
  }
 },
 "nbformat": 4,
 "nbformat_minor": 5
}
